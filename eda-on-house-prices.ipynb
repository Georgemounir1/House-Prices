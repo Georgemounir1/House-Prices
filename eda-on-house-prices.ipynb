{
 "cells": [
  {
   "cell_type": "markdown",
   "id": "f13d8364",
   "metadata": {
    "papermill": {
     "duration": 0.015851,
     "end_time": "2022-10-11T05:04:51.931093",
     "exception": false,
     "start_time": "2022-10-11T05:04:51.915242",
     "status": "completed"
    },
    "tags": []
   },
   "source": [
    "<div>\n",
    "<h1 style=\"padding:20px;border-radius:10px;border:5px solid #e3b4b9;text-align:center\" >EDA On House Prices</h1>\n",
    "</div>"
   ]
  },
  {
   "cell_type": "markdown",
   "id": "d3b1a473",
   "metadata": {
    "papermill": {
     "duration": 0.016802,
     "end_time": "2022-10-11T05:04:51.962803",
     "exception": false,
     "start_time": "2022-10-11T05:04:51.946001",
     "status": "completed"
    },
    "tags": []
   },
   "source": [
    "<div>\n",
    "\n",
    "</div>"
   ]
  },
  {
   "cell_type": "markdown",
   "id": "45eed0f4",
   "metadata": {
    "papermill": {
     "duration": 0.013423,
     "end_time": "2022-10-11T05:04:51.990619",
     "exception": false,
     "start_time": "2022-10-11T05:04:51.977196",
     "status": "completed"
    },
    "tags": []
   },
   "source": [
    "<div class=\"alert alert-block alert-warning\" style=\" border-radius:10px;border:5px solid #e3b4b9 ; text-align:center\">\n",
    "<b>Note That:</b> It Is My First Project Any Comments are Welcome.\n",
    "</div>"
   ]
  },
  {
   "cell_type": "markdown",
   "id": "7277171c",
   "metadata": {
    "papermill": {
     "duration": 0.013418,
     "end_time": "2022-10-11T05:04:52.018699",
     "exception": false,
     "start_time": "2022-10-11T05:04:52.005281",
     "status": "completed"
    },
    "tags": []
   },
   "source": [
    "# Table of Contents\n",
    "<a id=\"toc\"></a>\n",
    "- [1. Import Liablaries](#1)\n",
    "    - [1.1 Read Our Data](#1.1)\n",
    "    - [1.2 Discover Data](#1.2)\n",
    "    - [1.3 EDA FLOW Description](#1.3)\n",
    "- [2. Duplication](#2)\n",
    "- [3. Nulls](#3)\n",
    "    - [3.1 Nulls Process Description](#3.1)\n",
    "    - [3.2 Nulls Numeric Check](#3.2)\n",
    "    - [3.3 Nulls Graphic check](#3.3)\n",
    "    - [3.4 Nulls Handling](#3.4)\n",
    "- [4. Outliers](#4)\n",
    "    - [4.1 Outliers Process Description](#4.1)\n",
    "    - [4.2 Outliers Rule & Graphs](#4.2)\n",
    "    - [4.3 Outliers Handing](#4.2)\n"
   ]
  },
  {
   "cell_type": "markdown",
   "id": "5646cecb",
   "metadata": {
    "papermill": {
     "duration": 0.013672,
     "end_time": "2022-10-11T05:04:52.046033",
     "exception": false,
     "start_time": "2022-10-11T05:04:52.032361",
     "status": "completed"
    },
    "tags": []
   },
   "source": [
    "<a id=\"1\"></a>\n",
    "<div>\n",
    "    <h1 style=\"text-align:center ; color:blue\">1.Import Liblaries</h1>\n",
    "</div>"
   ]
  },
  {
   "cell_type": "code",
   "execution_count": 1,
   "id": "753d2ad1",
   "metadata": {
    "execution": {
     "iopub.execute_input": "2022-10-11T05:04:52.075764Z",
     "iopub.status.busy": "2022-10-11T05:04:52.075301Z",
     "iopub.status.idle": "2022-10-11T05:04:53.317528Z",
     "shell.execute_reply": "2022-10-11T05:04:53.315851Z"
    },
    "papermill": {
     "duration": 1.260586,
     "end_time": "2022-10-11T05:04:53.320575",
     "exception": false,
     "start_time": "2022-10-11T05:04:52.059989",
     "status": "completed"
    },
    "tags": []
   },
   "outputs": [],
   "source": [
    "### 1. Prepare Notebook Basics\n",
    "# 1.1 IMPORT LIBRARIES\n",
    "import math\n",
    "import numpy as np\n",
    "import pandas as pd\n",
    "import seaborn as sns\n",
    "import matplotlib.pyplot as plt"
   ]
  },
  {
   "cell_type": "markdown",
   "id": "118fa1c4",
   "metadata": {
    "papermill": {
     "duration": 0.013885,
     "end_time": "2022-10-11T05:04:53.350041",
     "exception": false,
     "start_time": "2022-10-11T05:04:53.336156",
     "status": "completed"
    },
    "tags": []
   },
   "source": [
    "<a id=\"1.1\"></a>\n",
    "<div>\n",
    "    <h1 style=\"text-align:center ; color:blue\">1.1. Read Our Data</h1>\n",
    "</div>"
   ]
  },
  {
   "cell_type": "code",
   "execution_count": 2,
   "id": "f42b6f31",
   "metadata": {
    "execution": {
     "iopub.execute_input": "2022-10-11T05:04:53.381358Z",
     "iopub.status.busy": "2022-10-11T05:04:53.380582Z",
     "iopub.status.idle": "2022-10-11T05:04:53.461060Z",
     "shell.execute_reply": "2022-10-11T05:04:53.459650Z"
    },
    "papermill": {
     "duration": 0.099305,
     "end_time": "2022-10-11T05:04:53.463966",
     "exception": false,
     "start_time": "2022-10-11T05:04:53.364661",
     "status": "completed"
    },
    "tags": []
   },
   "outputs": [],
   "source": [
    "### 1. Prepare Notebook Basics\n",
    "# 1.2 Import Data\n",
    "trainData= pd.read_csv('../input/house-prices-advanced-regression-techniques/train.csv')\n",
    "testData= pd.read_csv('../input/house-prices-advanced-regression-techniques/test.csv')"
   ]
  },
  {
   "cell_type": "markdown",
   "id": "986d0fee",
   "metadata": {
    "papermill": {
     "duration": 0.014394,
     "end_time": "2022-10-11T05:04:53.492621",
     "exception": false,
     "start_time": "2022-10-11T05:04:53.478227",
     "status": "completed"
    },
    "tags": []
   },
   "source": [
    "<a id=\"1.2\"></a>\n",
    "<div>\n",
    "    <h1 style=\"text-align:center ; color:blue\">1.2. Discover The Data</h1>\n",
    "</div>"
   ]
  },
  {
   "cell_type": "code",
   "execution_count": 3,
   "id": "5a5ac041",
   "metadata": {
    "execution": {
     "iopub.execute_input": "2022-10-11T05:04:53.523121Z",
     "iopub.status.busy": "2022-10-11T05:04:53.522677Z",
     "iopub.status.idle": "2022-10-11T05:04:53.564736Z",
     "shell.execute_reply": "2022-10-11T05:04:53.563509Z"
    },
    "papermill": {
     "duration": 0.0604,
     "end_time": "2022-10-11T05:04:53.567759",
     "exception": false,
     "start_time": "2022-10-11T05:04:53.507359",
     "status": "completed"
    },
    "tags": []
   },
   "outputs": [
    {
     "data": {
      "text/html": [
       "<div>\n",
       "<style scoped>\n",
       "    .dataframe tbody tr th:only-of-type {\n",
       "        vertical-align: middle;\n",
       "    }\n",
       "\n",
       "    .dataframe tbody tr th {\n",
       "        vertical-align: top;\n",
       "    }\n",
       "\n",
       "    .dataframe thead th {\n",
       "        text-align: right;\n",
       "    }\n",
       "</style>\n",
       "<table border=\"1\" class=\"dataframe\">\n",
       "  <thead>\n",
       "    <tr style=\"text-align: right;\">\n",
       "      <th></th>\n",
       "      <th>Id</th>\n",
       "      <th>MSSubClass</th>\n",
       "      <th>MSZoning</th>\n",
       "      <th>LotFrontage</th>\n",
       "      <th>LotArea</th>\n",
       "      <th>Street</th>\n",
       "      <th>Alley</th>\n",
       "      <th>LotShape</th>\n",
       "      <th>LandContour</th>\n",
       "      <th>Utilities</th>\n",
       "      <th>...</th>\n",
       "      <th>PoolArea</th>\n",
       "      <th>PoolQC</th>\n",
       "      <th>Fence</th>\n",
       "      <th>MiscFeature</th>\n",
       "      <th>MiscVal</th>\n",
       "      <th>MoSold</th>\n",
       "      <th>YrSold</th>\n",
       "      <th>SaleType</th>\n",
       "      <th>SaleCondition</th>\n",
       "      <th>SalePrice</th>\n",
       "    </tr>\n",
       "  </thead>\n",
       "  <tbody>\n",
       "    <tr>\n",
       "      <th>0</th>\n",
       "      <td>1</td>\n",
       "      <td>60</td>\n",
       "      <td>RL</td>\n",
       "      <td>65.0</td>\n",
       "      <td>8450</td>\n",
       "      <td>Pave</td>\n",
       "      <td>NaN</td>\n",
       "      <td>Reg</td>\n",
       "      <td>Lvl</td>\n",
       "      <td>AllPub</td>\n",
       "      <td>...</td>\n",
       "      <td>0</td>\n",
       "      <td>NaN</td>\n",
       "      <td>NaN</td>\n",
       "      <td>NaN</td>\n",
       "      <td>0</td>\n",
       "      <td>2</td>\n",
       "      <td>2008</td>\n",
       "      <td>WD</td>\n",
       "      <td>Normal</td>\n",
       "      <td>208500</td>\n",
       "    </tr>\n",
       "    <tr>\n",
       "      <th>1</th>\n",
       "      <td>2</td>\n",
       "      <td>20</td>\n",
       "      <td>RL</td>\n",
       "      <td>80.0</td>\n",
       "      <td>9600</td>\n",
       "      <td>Pave</td>\n",
       "      <td>NaN</td>\n",
       "      <td>Reg</td>\n",
       "      <td>Lvl</td>\n",
       "      <td>AllPub</td>\n",
       "      <td>...</td>\n",
       "      <td>0</td>\n",
       "      <td>NaN</td>\n",
       "      <td>NaN</td>\n",
       "      <td>NaN</td>\n",
       "      <td>0</td>\n",
       "      <td>5</td>\n",
       "      <td>2007</td>\n",
       "      <td>WD</td>\n",
       "      <td>Normal</td>\n",
       "      <td>181500</td>\n",
       "    </tr>\n",
       "    <tr>\n",
       "      <th>2</th>\n",
       "      <td>3</td>\n",
       "      <td>60</td>\n",
       "      <td>RL</td>\n",
       "      <td>68.0</td>\n",
       "      <td>11250</td>\n",
       "      <td>Pave</td>\n",
       "      <td>NaN</td>\n",
       "      <td>IR1</td>\n",
       "      <td>Lvl</td>\n",
       "      <td>AllPub</td>\n",
       "      <td>...</td>\n",
       "      <td>0</td>\n",
       "      <td>NaN</td>\n",
       "      <td>NaN</td>\n",
       "      <td>NaN</td>\n",
       "      <td>0</td>\n",
       "      <td>9</td>\n",
       "      <td>2008</td>\n",
       "      <td>WD</td>\n",
       "      <td>Normal</td>\n",
       "      <td>223500</td>\n",
       "    </tr>\n",
       "    <tr>\n",
       "      <th>3</th>\n",
       "      <td>4</td>\n",
       "      <td>70</td>\n",
       "      <td>RL</td>\n",
       "      <td>60.0</td>\n",
       "      <td>9550</td>\n",
       "      <td>Pave</td>\n",
       "      <td>NaN</td>\n",
       "      <td>IR1</td>\n",
       "      <td>Lvl</td>\n",
       "      <td>AllPub</td>\n",
       "      <td>...</td>\n",
       "      <td>0</td>\n",
       "      <td>NaN</td>\n",
       "      <td>NaN</td>\n",
       "      <td>NaN</td>\n",
       "      <td>0</td>\n",
       "      <td>2</td>\n",
       "      <td>2006</td>\n",
       "      <td>WD</td>\n",
       "      <td>Abnorml</td>\n",
       "      <td>140000</td>\n",
       "    </tr>\n",
       "    <tr>\n",
       "      <th>4</th>\n",
       "      <td>5</td>\n",
       "      <td>60</td>\n",
       "      <td>RL</td>\n",
       "      <td>84.0</td>\n",
       "      <td>14260</td>\n",
       "      <td>Pave</td>\n",
       "      <td>NaN</td>\n",
       "      <td>IR1</td>\n",
       "      <td>Lvl</td>\n",
       "      <td>AllPub</td>\n",
       "      <td>...</td>\n",
       "      <td>0</td>\n",
       "      <td>NaN</td>\n",
       "      <td>NaN</td>\n",
       "      <td>NaN</td>\n",
       "      <td>0</td>\n",
       "      <td>12</td>\n",
       "      <td>2008</td>\n",
       "      <td>WD</td>\n",
       "      <td>Normal</td>\n",
       "      <td>250000</td>\n",
       "    </tr>\n",
       "  </tbody>\n",
       "</table>\n",
       "<p>5 rows × 81 columns</p>\n",
       "</div>"
      ],
      "text/plain": [
       "   Id  MSSubClass MSZoning  LotFrontage  LotArea Street Alley LotShape  \\\n",
       "0   1          60       RL         65.0     8450   Pave   NaN      Reg   \n",
       "1   2          20       RL         80.0     9600   Pave   NaN      Reg   \n",
       "2   3          60       RL         68.0    11250   Pave   NaN      IR1   \n",
       "3   4          70       RL         60.0     9550   Pave   NaN      IR1   \n",
       "4   5          60       RL         84.0    14260   Pave   NaN      IR1   \n",
       "\n",
       "  LandContour Utilities  ... PoolArea PoolQC Fence MiscFeature MiscVal MoSold  \\\n",
       "0         Lvl    AllPub  ...        0    NaN   NaN         NaN       0      2   \n",
       "1         Lvl    AllPub  ...        0    NaN   NaN         NaN       0      5   \n",
       "2         Lvl    AllPub  ...        0    NaN   NaN         NaN       0      9   \n",
       "3         Lvl    AllPub  ...        0    NaN   NaN         NaN       0      2   \n",
       "4         Lvl    AllPub  ...        0    NaN   NaN         NaN       0     12   \n",
       "\n",
       "  YrSold  SaleType  SaleCondition  SalePrice  \n",
       "0   2008        WD         Normal     208500  \n",
       "1   2007        WD         Normal     181500  \n",
       "2   2008        WD         Normal     223500  \n",
       "3   2006        WD        Abnorml     140000  \n",
       "4   2008        WD         Normal     250000  \n",
       "\n",
       "[5 rows x 81 columns]"
      ]
     },
     "execution_count": 3,
     "metadata": {},
     "output_type": "execute_result"
    }
   ],
   "source": [
    "### Start Exploring Data\n",
    "pd.reset_option('display.max_rows')\n",
    "pd.reset_option('display.max_columns')\n",
    "trainData.head() "
   ]
  },
  {
   "cell_type": "code",
   "execution_count": 4,
   "id": "23b0c327",
   "metadata": {
    "execution": {
     "iopub.execute_input": "2022-10-11T05:04:53.599913Z",
     "iopub.status.busy": "2022-10-11T05:04:53.599500Z",
     "iopub.status.idle": "2022-10-11T05:04:53.634272Z",
     "shell.execute_reply": "2022-10-11T05:04:53.632504Z"
    },
    "papermill": {
     "duration": 0.054297,
     "end_time": "2022-10-11T05:04:53.637783",
     "exception": false,
     "start_time": "2022-10-11T05:04:53.583486",
     "status": "completed"
    },
    "tags": []
   },
   "outputs": [
    {
     "name": "stdout",
     "output_type": "stream",
     "text": [
      "<class 'pandas.core.frame.DataFrame'>\n",
      "RangeIndex: 1460 entries, 0 to 1459\n",
      "Data columns (total 81 columns):\n",
      " #   Column         Non-Null Count  Dtype  \n",
      "---  ------         --------------  -----  \n",
      " 0   Id             1460 non-null   int64  \n",
      " 1   MSSubClass     1460 non-null   int64  \n",
      " 2   MSZoning       1460 non-null   object \n",
      " 3   LotFrontage    1201 non-null   float64\n",
      " 4   LotArea        1460 non-null   int64  \n",
      " 5   Street         1460 non-null   object \n",
      " 6   Alley          91 non-null     object \n",
      " 7   LotShape       1460 non-null   object \n",
      " 8   LandContour    1460 non-null   object \n",
      " 9   Utilities      1460 non-null   object \n",
      " 10  LotConfig      1460 non-null   object \n",
      " 11  LandSlope      1460 non-null   object \n",
      " 12  Neighborhood   1460 non-null   object \n",
      " 13  Condition1     1460 non-null   object \n",
      " 14  Condition2     1460 non-null   object \n",
      " 15  BldgType       1460 non-null   object \n",
      " 16  HouseStyle     1460 non-null   object \n",
      " 17  OverallQual    1460 non-null   int64  \n",
      " 18  OverallCond    1460 non-null   int64  \n",
      " 19  YearBuilt      1460 non-null   int64  \n",
      " 20  YearRemodAdd   1460 non-null   int64  \n",
      " 21  RoofStyle      1460 non-null   object \n",
      " 22  RoofMatl       1460 non-null   object \n",
      " 23  Exterior1st    1460 non-null   object \n",
      " 24  Exterior2nd    1460 non-null   object \n",
      " 25  MasVnrType     1452 non-null   object \n",
      " 26  MasVnrArea     1452 non-null   float64\n",
      " 27  ExterQual      1460 non-null   object \n",
      " 28  ExterCond      1460 non-null   object \n",
      " 29  Foundation     1460 non-null   object \n",
      " 30  BsmtQual       1423 non-null   object \n",
      " 31  BsmtCond       1423 non-null   object \n",
      " 32  BsmtExposure   1422 non-null   object \n",
      " 33  BsmtFinType1   1423 non-null   object \n",
      " 34  BsmtFinSF1     1460 non-null   int64  \n",
      " 35  BsmtFinType2   1422 non-null   object \n",
      " 36  BsmtFinSF2     1460 non-null   int64  \n",
      " 37  BsmtUnfSF      1460 non-null   int64  \n",
      " 38  TotalBsmtSF    1460 non-null   int64  \n",
      " 39  Heating        1460 non-null   object \n",
      " 40  HeatingQC      1460 non-null   object \n",
      " 41  CentralAir     1460 non-null   object \n",
      " 42  Electrical     1459 non-null   object \n",
      " 43  1stFlrSF       1460 non-null   int64  \n",
      " 44  2ndFlrSF       1460 non-null   int64  \n",
      " 45  LowQualFinSF   1460 non-null   int64  \n",
      " 46  GrLivArea      1460 non-null   int64  \n",
      " 47  BsmtFullBath   1460 non-null   int64  \n",
      " 48  BsmtHalfBath   1460 non-null   int64  \n",
      " 49  FullBath       1460 non-null   int64  \n",
      " 50  HalfBath       1460 non-null   int64  \n",
      " 51  BedroomAbvGr   1460 non-null   int64  \n",
      " 52  KitchenAbvGr   1460 non-null   int64  \n",
      " 53  KitchenQual    1460 non-null   object \n",
      " 54  TotRmsAbvGrd   1460 non-null   int64  \n",
      " 55  Functional     1460 non-null   object \n",
      " 56  Fireplaces     1460 non-null   int64  \n",
      " 57  FireplaceQu    770 non-null    object \n",
      " 58  GarageType     1379 non-null   object \n",
      " 59  GarageYrBlt    1379 non-null   float64\n",
      " 60  GarageFinish   1379 non-null   object \n",
      " 61  GarageCars     1460 non-null   int64  \n",
      " 62  GarageArea     1460 non-null   int64  \n",
      " 63  GarageQual     1379 non-null   object \n",
      " 64  GarageCond     1379 non-null   object \n",
      " 65  PavedDrive     1460 non-null   object \n",
      " 66  WoodDeckSF     1460 non-null   int64  \n",
      " 67  OpenPorchSF    1460 non-null   int64  \n",
      " 68  EnclosedPorch  1460 non-null   int64  \n",
      " 69  3SsnPorch      1460 non-null   int64  \n",
      " 70  ScreenPorch    1460 non-null   int64  \n",
      " 71  PoolArea       1460 non-null   int64  \n",
      " 72  PoolQC         7 non-null      object \n",
      " 73  Fence          281 non-null    object \n",
      " 74  MiscFeature    54 non-null     object \n",
      " 75  MiscVal        1460 non-null   int64  \n",
      " 76  MoSold         1460 non-null   int64  \n",
      " 77  YrSold         1460 non-null   int64  \n",
      " 78  SaleType       1460 non-null   object \n",
      " 79  SaleCondition  1460 non-null   object \n",
      " 80  SalePrice      1460 non-null   int64  \n",
      "dtypes: float64(3), int64(35), object(43)\n",
      "memory usage: 924.0+ KB\n"
     ]
    }
   ],
   "source": [
    "trainData.info()\n",
    "# So After Quick Check We Have A Lot Of Nulls"
   ]
  },
  {
   "cell_type": "code",
   "execution_count": 5,
   "id": "7668ea60",
   "metadata": {
    "execution": {
     "iopub.execute_input": "2022-10-11T05:04:53.670811Z",
     "iopub.status.busy": "2022-10-11T05:04:53.670338Z",
     "iopub.status.idle": "2022-10-11T05:04:53.781039Z",
     "shell.execute_reply": "2022-10-11T05:04:53.779804Z"
    },
    "papermill": {
     "duration": 0.130873,
     "end_time": "2022-10-11T05:04:53.783879",
     "exception": false,
     "start_time": "2022-10-11T05:04:53.653006",
     "status": "completed"
    },
    "tags": []
   },
   "outputs": [
    {
     "data": {
      "text/html": [
       "<div>\n",
       "<style scoped>\n",
       "    .dataframe tbody tr th:only-of-type {\n",
       "        vertical-align: middle;\n",
       "    }\n",
       "\n",
       "    .dataframe tbody tr th {\n",
       "        vertical-align: top;\n",
       "    }\n",
       "\n",
       "    .dataframe thead th {\n",
       "        text-align: right;\n",
       "    }\n",
       "</style>\n",
       "<table border=\"1\" class=\"dataframe\">\n",
       "  <thead>\n",
       "    <tr style=\"text-align: right;\">\n",
       "      <th></th>\n",
       "      <th>Id</th>\n",
       "      <th>MSSubClass</th>\n",
       "      <th>LotFrontage</th>\n",
       "      <th>LotArea</th>\n",
       "      <th>OverallQual</th>\n",
       "      <th>OverallCond</th>\n",
       "      <th>YearBuilt</th>\n",
       "      <th>YearRemodAdd</th>\n",
       "      <th>MasVnrArea</th>\n",
       "      <th>BsmtFinSF1</th>\n",
       "      <th>...</th>\n",
       "      <th>WoodDeckSF</th>\n",
       "      <th>OpenPorchSF</th>\n",
       "      <th>EnclosedPorch</th>\n",
       "      <th>3SsnPorch</th>\n",
       "      <th>ScreenPorch</th>\n",
       "      <th>PoolArea</th>\n",
       "      <th>MiscVal</th>\n",
       "      <th>MoSold</th>\n",
       "      <th>YrSold</th>\n",
       "      <th>SalePrice</th>\n",
       "    </tr>\n",
       "  </thead>\n",
       "  <tbody>\n",
       "    <tr>\n",
       "      <th>count</th>\n",
       "      <td>1460.000000</td>\n",
       "      <td>1460.000000</td>\n",
       "      <td>1201.000000</td>\n",
       "      <td>1460.000000</td>\n",
       "      <td>1460.000000</td>\n",
       "      <td>1460.000000</td>\n",
       "      <td>1460.000000</td>\n",
       "      <td>1460.000000</td>\n",
       "      <td>1452.000000</td>\n",
       "      <td>1460.000000</td>\n",
       "      <td>...</td>\n",
       "      <td>1460.000000</td>\n",
       "      <td>1460.000000</td>\n",
       "      <td>1460.000000</td>\n",
       "      <td>1460.000000</td>\n",
       "      <td>1460.000000</td>\n",
       "      <td>1460.000000</td>\n",
       "      <td>1460.000000</td>\n",
       "      <td>1460.000000</td>\n",
       "      <td>1460.000000</td>\n",
       "      <td>1460.000000</td>\n",
       "    </tr>\n",
       "    <tr>\n",
       "      <th>mean</th>\n",
       "      <td>730.500000</td>\n",
       "      <td>56.897260</td>\n",
       "      <td>70.049958</td>\n",
       "      <td>10516.828082</td>\n",
       "      <td>6.099315</td>\n",
       "      <td>5.575342</td>\n",
       "      <td>1971.267808</td>\n",
       "      <td>1984.865753</td>\n",
       "      <td>103.685262</td>\n",
       "      <td>443.639726</td>\n",
       "      <td>...</td>\n",
       "      <td>94.244521</td>\n",
       "      <td>46.660274</td>\n",
       "      <td>21.954110</td>\n",
       "      <td>3.409589</td>\n",
       "      <td>15.060959</td>\n",
       "      <td>2.758904</td>\n",
       "      <td>43.489041</td>\n",
       "      <td>6.321918</td>\n",
       "      <td>2007.815753</td>\n",
       "      <td>180921.195890</td>\n",
       "    </tr>\n",
       "    <tr>\n",
       "      <th>std</th>\n",
       "      <td>421.610009</td>\n",
       "      <td>42.300571</td>\n",
       "      <td>24.284752</td>\n",
       "      <td>9981.264932</td>\n",
       "      <td>1.382997</td>\n",
       "      <td>1.112799</td>\n",
       "      <td>30.202904</td>\n",
       "      <td>20.645407</td>\n",
       "      <td>181.066207</td>\n",
       "      <td>456.098091</td>\n",
       "      <td>...</td>\n",
       "      <td>125.338794</td>\n",
       "      <td>66.256028</td>\n",
       "      <td>61.119149</td>\n",
       "      <td>29.317331</td>\n",
       "      <td>55.757415</td>\n",
       "      <td>40.177307</td>\n",
       "      <td>496.123024</td>\n",
       "      <td>2.703626</td>\n",
       "      <td>1.328095</td>\n",
       "      <td>79442.502883</td>\n",
       "    </tr>\n",
       "    <tr>\n",
       "      <th>min</th>\n",
       "      <td>1.000000</td>\n",
       "      <td>20.000000</td>\n",
       "      <td>21.000000</td>\n",
       "      <td>1300.000000</td>\n",
       "      <td>1.000000</td>\n",
       "      <td>1.000000</td>\n",
       "      <td>1872.000000</td>\n",
       "      <td>1950.000000</td>\n",
       "      <td>0.000000</td>\n",
       "      <td>0.000000</td>\n",
       "      <td>...</td>\n",
       "      <td>0.000000</td>\n",
       "      <td>0.000000</td>\n",
       "      <td>0.000000</td>\n",
       "      <td>0.000000</td>\n",
       "      <td>0.000000</td>\n",
       "      <td>0.000000</td>\n",
       "      <td>0.000000</td>\n",
       "      <td>1.000000</td>\n",
       "      <td>2006.000000</td>\n",
       "      <td>34900.000000</td>\n",
       "    </tr>\n",
       "    <tr>\n",
       "      <th>25%</th>\n",
       "      <td>365.750000</td>\n",
       "      <td>20.000000</td>\n",
       "      <td>59.000000</td>\n",
       "      <td>7553.500000</td>\n",
       "      <td>5.000000</td>\n",
       "      <td>5.000000</td>\n",
       "      <td>1954.000000</td>\n",
       "      <td>1967.000000</td>\n",
       "      <td>0.000000</td>\n",
       "      <td>0.000000</td>\n",
       "      <td>...</td>\n",
       "      <td>0.000000</td>\n",
       "      <td>0.000000</td>\n",
       "      <td>0.000000</td>\n",
       "      <td>0.000000</td>\n",
       "      <td>0.000000</td>\n",
       "      <td>0.000000</td>\n",
       "      <td>0.000000</td>\n",
       "      <td>5.000000</td>\n",
       "      <td>2007.000000</td>\n",
       "      <td>129975.000000</td>\n",
       "    </tr>\n",
       "    <tr>\n",
       "      <th>50%</th>\n",
       "      <td>730.500000</td>\n",
       "      <td>50.000000</td>\n",
       "      <td>69.000000</td>\n",
       "      <td>9478.500000</td>\n",
       "      <td>6.000000</td>\n",
       "      <td>5.000000</td>\n",
       "      <td>1973.000000</td>\n",
       "      <td>1994.000000</td>\n",
       "      <td>0.000000</td>\n",
       "      <td>383.500000</td>\n",
       "      <td>...</td>\n",
       "      <td>0.000000</td>\n",
       "      <td>25.000000</td>\n",
       "      <td>0.000000</td>\n",
       "      <td>0.000000</td>\n",
       "      <td>0.000000</td>\n",
       "      <td>0.000000</td>\n",
       "      <td>0.000000</td>\n",
       "      <td>6.000000</td>\n",
       "      <td>2008.000000</td>\n",
       "      <td>163000.000000</td>\n",
       "    </tr>\n",
       "    <tr>\n",
       "      <th>75%</th>\n",
       "      <td>1095.250000</td>\n",
       "      <td>70.000000</td>\n",
       "      <td>80.000000</td>\n",
       "      <td>11601.500000</td>\n",
       "      <td>7.000000</td>\n",
       "      <td>6.000000</td>\n",
       "      <td>2000.000000</td>\n",
       "      <td>2004.000000</td>\n",
       "      <td>166.000000</td>\n",
       "      <td>712.250000</td>\n",
       "      <td>...</td>\n",
       "      <td>168.000000</td>\n",
       "      <td>68.000000</td>\n",
       "      <td>0.000000</td>\n",
       "      <td>0.000000</td>\n",
       "      <td>0.000000</td>\n",
       "      <td>0.000000</td>\n",
       "      <td>0.000000</td>\n",
       "      <td>8.000000</td>\n",
       "      <td>2009.000000</td>\n",
       "      <td>214000.000000</td>\n",
       "    </tr>\n",
       "    <tr>\n",
       "      <th>max</th>\n",
       "      <td>1460.000000</td>\n",
       "      <td>190.000000</td>\n",
       "      <td>313.000000</td>\n",
       "      <td>215245.000000</td>\n",
       "      <td>10.000000</td>\n",
       "      <td>9.000000</td>\n",
       "      <td>2010.000000</td>\n",
       "      <td>2010.000000</td>\n",
       "      <td>1600.000000</td>\n",
       "      <td>5644.000000</td>\n",
       "      <td>...</td>\n",
       "      <td>857.000000</td>\n",
       "      <td>547.000000</td>\n",
       "      <td>552.000000</td>\n",
       "      <td>508.000000</td>\n",
       "      <td>480.000000</td>\n",
       "      <td>738.000000</td>\n",
       "      <td>15500.000000</td>\n",
       "      <td>12.000000</td>\n",
       "      <td>2010.000000</td>\n",
       "      <td>755000.000000</td>\n",
       "    </tr>\n",
       "  </tbody>\n",
       "</table>\n",
       "<p>8 rows × 38 columns</p>\n",
       "</div>"
      ],
      "text/plain": [
       "                Id   MSSubClass  LotFrontage        LotArea  OverallQual  \\\n",
       "count  1460.000000  1460.000000  1201.000000    1460.000000  1460.000000   \n",
       "mean    730.500000    56.897260    70.049958   10516.828082     6.099315   \n",
       "std     421.610009    42.300571    24.284752    9981.264932     1.382997   \n",
       "min       1.000000    20.000000    21.000000    1300.000000     1.000000   \n",
       "25%     365.750000    20.000000    59.000000    7553.500000     5.000000   \n",
       "50%     730.500000    50.000000    69.000000    9478.500000     6.000000   \n",
       "75%    1095.250000    70.000000    80.000000   11601.500000     7.000000   \n",
       "max    1460.000000   190.000000   313.000000  215245.000000    10.000000   \n",
       "\n",
       "       OverallCond    YearBuilt  YearRemodAdd   MasVnrArea   BsmtFinSF1  ...  \\\n",
       "count  1460.000000  1460.000000   1460.000000  1452.000000  1460.000000  ...   \n",
       "mean      5.575342  1971.267808   1984.865753   103.685262   443.639726  ...   \n",
       "std       1.112799    30.202904     20.645407   181.066207   456.098091  ...   \n",
       "min       1.000000  1872.000000   1950.000000     0.000000     0.000000  ...   \n",
       "25%       5.000000  1954.000000   1967.000000     0.000000     0.000000  ...   \n",
       "50%       5.000000  1973.000000   1994.000000     0.000000   383.500000  ...   \n",
       "75%       6.000000  2000.000000   2004.000000   166.000000   712.250000  ...   \n",
       "max       9.000000  2010.000000   2010.000000  1600.000000  5644.000000  ...   \n",
       "\n",
       "        WoodDeckSF  OpenPorchSF  EnclosedPorch    3SsnPorch  ScreenPorch  \\\n",
       "count  1460.000000  1460.000000    1460.000000  1460.000000  1460.000000   \n",
       "mean     94.244521    46.660274      21.954110     3.409589    15.060959   \n",
       "std     125.338794    66.256028      61.119149    29.317331    55.757415   \n",
       "min       0.000000     0.000000       0.000000     0.000000     0.000000   \n",
       "25%       0.000000     0.000000       0.000000     0.000000     0.000000   \n",
       "50%       0.000000    25.000000       0.000000     0.000000     0.000000   \n",
       "75%     168.000000    68.000000       0.000000     0.000000     0.000000   \n",
       "max     857.000000   547.000000     552.000000   508.000000   480.000000   \n",
       "\n",
       "          PoolArea       MiscVal       MoSold       YrSold      SalePrice  \n",
       "count  1460.000000   1460.000000  1460.000000  1460.000000    1460.000000  \n",
       "mean      2.758904     43.489041     6.321918  2007.815753  180921.195890  \n",
       "std      40.177307    496.123024     2.703626     1.328095   79442.502883  \n",
       "min       0.000000      0.000000     1.000000  2006.000000   34900.000000  \n",
       "25%       0.000000      0.000000     5.000000  2007.000000  129975.000000  \n",
       "50%       0.000000      0.000000     6.000000  2008.000000  163000.000000  \n",
       "75%       0.000000      0.000000     8.000000  2009.000000  214000.000000  \n",
       "max     738.000000  15500.000000    12.000000  2010.000000  755000.000000  \n",
       "\n",
       "[8 rows x 38 columns]"
      ]
     },
     "execution_count": 5,
     "metadata": {},
     "output_type": "execute_result"
    }
   ],
   "source": [
    "trainData.describe() "
   ]
  },
  {
   "cell_type": "markdown",
   "id": "5d6bad66",
   "metadata": {
    "papermill": {
     "duration": 0.015752,
     "end_time": "2022-10-11T05:04:53.814596",
     "exception": false,
     "start_time": "2022-10-11T05:04:53.798844",
     "status": "completed"
    },
    "tags": []
   },
   "source": [
    "<a id=\"1.3\"></a>\n",
    "<div>\n",
    "    <h1 style=\"text-align:center ; color:blue\">1.3. EDA FLOW Description</h1>\n",
    "    <h3>Let's Clean Our Data Into 3 Steps</h3>\n",
    "    <div>\n",
    "        <h4>1. Duplication</h4>\n",
    "        <h5>What We Search For : Duplication</h5>\n",
    "        <h5>What We Found : No Duplication</h5>\n",
    "        <h5>What We Did To Handle : Nothing</h5>\n",
    "        <hr>\n",
    "         <h4>2. Nulls</h4>\n",
    "        <h5>What We Search For : Nulls</h5>\n",
    "        <h5>What We Found : Many Nulls</h5>\n",
    "        <h5>What We Did To Handle : Explain & Code In # 2.2</h5>\n",
    "        <hr>\n",
    "          <h4>3. Outliers</h4>\n",
    "        <h5>What We Search For : Outliers</h5>\n",
    "        <h5>What We Found : There Are Outliers</h5>\n",
    "        <h5>What We Did To Handle : Code Below</h5>\n",
    "        <hr>\n",
    "    </div>\n",
    "</div>"
   ]
  },
  {
   "cell_type": "markdown",
   "id": "698e77b9",
   "metadata": {
    "papermill": {
     "duration": 0.017634,
     "end_time": "2022-10-11T05:04:53.853305",
     "exception": false,
     "start_time": "2022-10-11T05:04:53.835671",
     "status": "completed"
    },
    "tags": []
   },
   "source": [
    "<a id=\"2\"></a>\n",
    "<h3 style=\"text-align:center ; color:blue\">Duplication</h3>\n",
    "<p>We Search For Duplication by below Simple Code</p>\n",
    "<p>we Found That There Is No Duplication</p>\n"
   ]
  },
  {
   "cell_type": "code",
   "execution_count": 6,
   "id": "c95c400b",
   "metadata": {
    "execution": {
     "iopub.execute_input": "2022-10-11T05:04:53.894228Z",
     "iopub.status.busy": "2022-10-11T05:04:53.893792Z",
     "iopub.status.idle": "2022-10-11T05:04:53.928186Z",
     "shell.execute_reply": "2022-10-11T05:04:53.926811Z"
    },
    "papermill": {
     "duration": 0.055495,
     "end_time": "2022-10-11T05:04:53.931372",
     "exception": false,
     "start_time": "2022-10-11T05:04:53.875877",
     "status": "completed"
    },
    "tags": []
   },
   "outputs": [
    {
     "data": {
      "text/plain": [
       "0"
      ]
     },
     "metadata": {},
     "output_type": "display_data"
    }
   ],
   "source": [
    "#1. Duplicate ? There Is No One Yup 1st Step Is Fast Today\n",
    "display(trainData.duplicated().sum())"
   ]
  },
  {
   "cell_type": "markdown",
   "id": "c88a0539",
   "metadata": {
    "papermill": {
     "duration": 0.014276,
     "end_time": "2022-10-11T05:04:53.960675",
     "exception": false,
     "start_time": "2022-10-11T05:04:53.946399",
     "status": "completed"
    },
    "tags": []
   },
   "source": [
    "<a id=\"3\"></a>\n",
    "<h3 style=\"text-align:center ; color:blue\">Nulls</h3>\n",
    "<p>We Search For Nulls by below Code</p>\n",
    "<p>we Found That There are many nulls so </p>"
   ]
  },
  {
   "cell_type": "code",
   "execution_count": 7,
   "id": "1af01877",
   "metadata": {
    "execution": {
     "iopub.execute_input": "2022-10-11T05:04:53.991896Z",
     "iopub.status.busy": "2022-10-11T05:04:53.991489Z",
     "iopub.status.idle": "2022-10-11T05:04:54.006419Z",
     "shell.execute_reply": "2022-10-11T05:04:54.005517Z"
    },
    "papermill": {
     "duration": 0.033571,
     "end_time": "2022-10-11T05:04:54.008815",
     "exception": false,
     "start_time": "2022-10-11T05:04:53.975244",
     "status": "completed"
    },
    "tags": []
   },
   "outputs": [
    {
     "data": {
      "text/plain": [
       "Id                 0\n",
       "MSSubClass         0\n",
       "MSZoning           0\n",
       "LotFrontage      259\n",
       "LotArea            0\n",
       "                ... \n",
       "MoSold             0\n",
       "YrSold             0\n",
       "SaleType           0\n",
       "SaleCondition      0\n",
       "SalePrice          0\n",
       "Length: 81, dtype: int64"
      ]
     },
     "metadata": {},
     "output_type": "display_data"
    }
   ],
   "source": [
    "#2. Nulls ? # There Are Many Nulls We Will Handle It Now\n",
    "pd.set_option('display.max_rows',10)\n",
    "display(trainData.isnull().sum())\n",
    "#3. Outliers ? Check The End "
   ]
  },
  {
   "cell_type": "markdown",
   "id": "e119a83b",
   "metadata": {
    "papermill": {
     "duration": 0.014969,
     "end_time": "2022-10-11T05:04:54.039217",
     "exception": false,
     "start_time": "2022-10-11T05:04:54.024248",
     "status": "completed"
    },
    "tags": []
   },
   "source": [
    "<a id=\"2.1\"></a>\n",
    "<h3 style=\"text-align:center ; color:blue\">Nulls Process Description</h3>\n",
    "<h4>Check For Nulls Percentage % by this Rule  : Nulls / Len *100 Or #Graph It# </h4>\n",
    "<h5>Case1 : If It Is Acceptable We will Replace It With Mean or mode <strong> Depends On Data Type</strong></h5>\n",
    "<h5>Case 2 : If It Is Not Acceptable we Will Drop It From Our Data</h5>\n"
   ]
  },
  {
   "cell_type": "code",
   "execution_count": 8,
   "id": "27e5a61a",
   "metadata": {
    "execution": {
     "iopub.execute_input": "2022-10-11T05:04:54.070736Z",
     "iopub.status.busy": "2022-10-11T05:04:54.069883Z",
     "iopub.status.idle": "2022-10-11T05:04:54.084130Z",
     "shell.execute_reply": "2022-10-11T05:04:54.082266Z"
    },
    "papermill": {
     "duration": 0.033421,
     "end_time": "2022-10-11T05:04:54.087305",
     "exception": false,
     "start_time": "2022-10-11T05:04:54.053884",
     "status": "completed"
    },
    "tags": []
   },
   "outputs": [
    {
     "data": {
      "text/plain": [
       "Id                 0\n",
       "MSSubClass         0\n",
       "MSZoning           0\n",
       "LotFrontage      259\n",
       "LotArea            0\n",
       "                ... \n",
       "MoSold             0\n",
       "YrSold             0\n",
       "SaleType           0\n",
       "SaleCondition      0\n",
       "SalePrice          0\n",
       "Length: 81, dtype: int64"
      ]
     },
     "execution_count": 8,
     "metadata": {},
     "output_type": "execute_result"
    }
   ],
   "source": [
    "trainData.isnull().sum() "
   ]
  },
  {
   "cell_type": "markdown",
   "id": "4457092a",
   "metadata": {
    "papermill": {
     "duration": 0.015613,
     "end_time": "2022-10-11T05:04:54.120627",
     "exception": false,
     "start_time": "2022-10-11T05:04:54.105014",
     "status": "completed"
    },
    "tags": []
   },
   "source": [
    "<a id=\"2.2\"></a>\n",
    "<h3 style=\"text-align:center ; color:blue\">Nulls Search By Numerical Rules</h3>\n",
    "<h4>Check Null % In Each Column By The Following Rule : </h4>\n",
    "<h5>column_name.isnull().sum() / len(data['column_name'])*100</h5>"
   ]
  },
  {
   "cell_type": "code",
   "execution_count": 9,
   "id": "b08ae04d",
   "metadata": {
    "execution": {
     "iopub.execute_input": "2022-10-11T05:04:54.153617Z",
     "iopub.status.busy": "2022-10-11T05:04:54.152510Z",
     "iopub.status.idle": "2022-10-11T05:04:54.171941Z",
     "shell.execute_reply": "2022-10-11T05:04:54.169489Z"
    },
    "papermill": {
     "duration": 0.039447,
     "end_time": "2022-10-11T05:04:54.175000",
     "exception": false,
     "start_time": "2022-10-11T05:04:54.135553",
     "status": "completed"
    },
    "tags": []
   },
   "outputs": [
    {
     "name": "stdout",
     "output_type": "stream",
     "text": [
      "BsmtQual Null Percentage Is :\n",
      "2.53\n",
      "BsmtCond Null Percentage Is :\n",
      "2.53\n",
      "BsmtExposure Null Percentage Is :\n",
      "2.6\n",
      "BsmtFinType1 Null Percentage Is :\n",
      "2.53\n",
      "BsmtFinType2 Null Percentage Is :\n",
      "2.6\n",
      "Electrical Null Percentage Is :\n",
      "0.07\n",
      "FireplaceQu Null Percentage Is :\n",
      "47.26\n",
      "GarageType Null Percentage Is :\n",
      "5.55\n",
      "GarageYrBlt Null Percentage Is :\n",
      "5.55\n"
     ]
    }
   ],
   "source": [
    "print('BsmtQual Null Percentage Is :')\n",
    "AllNull= trainData['BsmtQual'].isnull().sum()/ len(trainData['BsmtQual'])*100\n",
    "print(round(AllNull, 2))\n",
    "#for BsmtCond\n",
    "print('BsmtCond Null Percentage Is :')\n",
    "AllNull= trainData['BsmtCond'].isnull().sum()/ len(trainData['BsmtCond'])*100\n",
    "print(round(AllNull, 2))\n",
    "#for BsmtExposure\n",
    "print('BsmtExposure Null Percentage Is :')\n",
    "AllNull= trainData['BsmtExposure'].isnull().sum()/ len(trainData['BsmtExposure'])*100\n",
    "print(round(AllNull, 2))\n",
    "#for BsmtFinType1\n",
    "print('BsmtFinType1 Null Percentage Is :')\n",
    "AllNull= trainData['BsmtFinType1'].isnull().sum()/ len(trainData['BsmtFinType1'])*100\n",
    "print(round(AllNull, 2))\n",
    "#for BsmtFinType2\n",
    "print('BsmtFinType2 Null Percentage Is :')\n",
    "AllNull= trainData['BsmtFinType2'].isnull().sum()/ len(trainData['BsmtFinType2'])*100\n",
    "print(round(AllNull, 2))\n",
    "#for Electrical\n",
    "print('Electrical Null Percentage Is :')\n",
    "AllNull= trainData['Electrical'].isnull().sum()/ len(trainData['Electrical'])*100\n",
    "print(round(AllNull, 2))\n",
    "#for FireplaceQu\n",
    "print('FireplaceQu Null Percentage Is :')\n",
    "AllNull= trainData['FireplaceQu'].isnull().sum()/ len(trainData['FireplaceQu'])*100\n",
    "print(round(AllNull, 2))\n",
    "#for GarageType\n",
    "print('GarageType Null Percentage Is :')\n",
    "AllNull= trainData['GarageType'  ].isnull().sum()/ len(trainData['GarageType'])*100\n",
    "print(round(AllNull, 2))\n",
    "#for GarageYrBlt\n",
    "print('GarageYrBlt Null Percentage Is :')\n",
    "AllNull= trainData['GarageYrBlt'  ].isnull().sum()/ len(trainData['GarageYrBlt'])*100\n",
    "print(round(AllNull, 2))\n",
    "### waah wait wait wait \n",
    "# we can complete It as a calculations Like above but what if we can get it as a graph! let's See"
   ]
  },
  {
   "cell_type": "markdown",
   "id": "07666c12",
   "metadata": {
    "papermill": {
     "duration": 0.01458,
     "end_time": "2022-10-11T05:04:54.206292",
     "exception": false,
     "start_time": "2022-10-11T05:04:54.191712",
     "status": "completed"
    },
    "tags": []
   },
   "source": [
    "<h3>Yup Me Two A lot Of Numbers And Calcs So Let's Graph It <h/3>\n",
    "<a id=\"2.3\"></a>\n",
    "<h3 style=\"text-align:center ; color:blue\">Nulls Search By Simple Graph</h3>\n",
    "<h4>Check Null % In Each Column By If Function to Draw in case of exist and else in case of no nulls <br><strong>will use else to check after handle nulls</strong> </h4>"
   ]
  },
  {
   "cell_type": "code",
   "execution_count": 10,
   "id": "23beae73",
   "metadata": {
    "execution": {
     "iopub.execute_input": "2022-10-11T05:04:54.238245Z",
     "iopub.status.busy": "2022-10-11T05:04:54.237833Z",
     "iopub.status.idle": "2022-10-11T05:04:54.597124Z",
     "shell.execute_reply": "2022-10-11T05:04:54.595727Z"
    },
    "papermill": {
     "duration": 0.378688,
     "end_time": "2022-10-11T05:04:54.599954",
     "exception": false,
     "start_time": "2022-10-11T05:04:54.221266",
     "status": "completed"
    },
    "tags": []
   },
   "outputs": [
    {
     "data": {
      "image/png": "[encoded data removed]",
      "text/plain": [
       "<Figure size 432x288 with 1 Axes>"
      ]
     },
     "metadata": {
      "needs_background": "light"
     },
     "output_type": "display_data"
    }
   ],
   "source": [
    "def plot_nas(trainData: pd.DataFrame):\n",
    "    if trainData.isnull().sum().sum() != 0:\n",
    "        na_df = (trainData.isnull().sum() / len(trainData)) * 100      \n",
    "        na_df = na_df.drop(na_df[na_df == 0].index).sort_values(ascending=False)\n",
    "        missing_data = pd.DataFrame({'Missing Ratio %' :na_df})\n",
    "        missing_data.plot(kind = \"barh\")\n",
    "        plt.show()\n",
    "    else:\n",
    "        print('No NAs found')\n",
    "plot_nas(trainData)\n",
    "# So we Will Replace All Nulls with Mean or mode Except Last 4 Cols"
   ]
  },
  {
   "cell_type": "markdown",
   "id": "4e20af28",
   "metadata": {
    "papermill": {
     "duration": 0.015035,
     "end_time": "2022-10-11T05:04:54.631236",
     "exception": false,
     "start_time": "2022-10-11T05:04:54.616201",
     "status": "completed"
    },
    "tags": []
   },
   "source": [
    "<a id=\"2.3\"></a>\n",
    "<h3 style=\"text-align:center ; color:blue\">Nulls Hnadling</h3>\n",
    "<h4>After Check Nulls % , Let's Hnadle It By Our Senarios In # 2.1</h4>\n"
   ]
  },
  {
   "cell_type": "code",
   "execution_count": 11,
   "id": "f257e17d",
   "metadata": {
    "execution": {
     "iopub.execute_input": "2022-10-11T05:04:54.664837Z",
     "iopub.status.busy": "2022-10-11T05:04:54.664316Z",
     "iopub.status.idle": "2022-10-11T05:04:54.683521Z",
     "shell.execute_reply": "2022-10-11T05:04:54.682040Z"
    },
    "papermill": {
     "duration": 0.0394,
     "end_time": "2022-10-11T05:04:54.686112",
     "exception": false,
     "start_time": "2022-10-11T05:04:54.646712",
     "status": "completed"
    },
    "tags": []
   },
   "outputs": [
    {
     "data": {
      "text/plain": [
       "count    1201.000000\n",
       "mean       70.049958\n",
       "std        24.284752\n",
       "min        21.000000\n",
       "25%        59.000000\n",
       "50%        69.000000\n",
       "75%        80.000000\n",
       "max       313.000000\n",
       "Name: LotFrontage, dtype: float64"
      ]
     },
     "metadata": {},
     "output_type": "display_data"
    },
    {
     "data": {
      "text/plain": [
       "0"
      ]
     },
     "execution_count": 11,
     "metadata": {},
     "output_type": "execute_result"
    }
   ],
   "source": [
    "display(trainData['LotFrontage'].describe())\n",
    "# So Top Is 70\n",
    "trainData['LotFrontage'].fillna(\"70\", inplace = True)\n",
    "trainData['LotFrontage'].isnull().sum()"
   ]
  },
  {
   "cell_type": "code",
   "execution_count": 12,
   "id": "7408e438",
   "metadata": {
    "execution": {
     "iopub.execute_input": "2022-10-11T05:04:54.721203Z",
     "iopub.status.busy": "2022-10-11T05:04:54.720806Z",
     "iopub.status.idle": "2022-10-11T05:04:54.735793Z",
     "shell.execute_reply": "2022-10-11T05:04:54.734566Z"
    },
    "papermill": {
     "duration": 0.035495,
     "end_time": "2022-10-11T05:04:54.738281",
     "exception": false,
     "start_time": "2022-10-11T05:04:54.702786",
     "status": "completed"
    },
    "tags": []
   },
   "outputs": [
    {
     "data": {
      "text/plain": [
       "count     1423\n",
       "unique       4\n",
       "top         TA\n",
       "freq       649\n",
       "Name: BsmtQual, dtype: object"
      ]
     },
     "metadata": {},
     "output_type": "display_data"
    },
    {
     "data": {
      "text/plain": [
       "0"
      ]
     },
     "execution_count": 12,
     "metadata": {},
     "output_type": "execute_result"
    }
   ],
   "source": [
    "display(trainData['BsmtQual'].describe())\n",
    "# So Top Is TA \n",
    "trainData['BsmtQual'].fillna(\"TA\", inplace = True)\n",
    "trainData['BsmtQual'].isnull().sum()\n",
    "####################\n",
    "#now i do the same For the rest"
   ]
  },
  {
   "cell_type": "code",
   "execution_count": 13,
   "id": "b25fa145",
   "metadata": {
    "execution": {
     "iopub.execute_input": "2022-10-11T05:04:54.771829Z",
     "iopub.status.busy": "2022-10-11T05:04:54.771412Z",
     "iopub.status.idle": "2022-10-11T05:04:54.785364Z",
     "shell.execute_reply": "2022-10-11T05:04:54.784236Z"
    },
    "papermill": {
     "duration": 0.033934,
     "end_time": "2022-10-11T05:04:54.788073",
     "exception": false,
     "start_time": "2022-10-11T05:04:54.754139",
     "status": "completed"
    },
    "tags": []
   },
   "outputs": [
    {
     "data": {
      "text/plain": [
       "count     1423\n",
       "unique       4\n",
       "top         TA\n",
       "freq      1311\n",
       "Name: BsmtCond, dtype: object"
      ]
     },
     "metadata": {},
     "output_type": "display_data"
    },
    {
     "data": {
      "text/plain": [
       "0"
      ]
     },
     "execution_count": 13,
     "metadata": {},
     "output_type": "execute_result"
    }
   ],
   "source": [
    "display(trainData['BsmtCond'].describe())\n",
    "# So Top Is TA \n",
    "trainData['BsmtCond'].fillna(\"TA\", inplace = True)\n",
    "trainData['BsmtCond'].isnull().sum()"
   ]
  },
  {
   "cell_type": "code",
   "execution_count": 14,
   "id": "6abd7ae2",
   "metadata": {
    "execution": {
     "iopub.execute_input": "2022-10-11T05:04:54.824852Z",
     "iopub.status.busy": "2022-10-11T05:04:54.824428Z",
     "iopub.status.idle": "2022-10-11T05:04:54.840529Z",
     "shell.execute_reply": "2022-10-11T05:04:54.839337Z"
    },
    "papermill": {
     "duration": 0.037223,
     "end_time": "2022-10-11T05:04:54.843226",
     "exception": false,
     "start_time": "2022-10-11T05:04:54.806003",
     "status": "completed"
    },
    "tags": []
   },
   "outputs": [
    {
     "data": {
      "text/plain": [
       "count     1422\n",
       "unique       4\n",
       "top         No\n",
       "freq       953\n",
       "Name: BsmtExposure, dtype: object"
      ]
     },
     "metadata": {},
     "output_type": "display_data"
    },
    {
     "data": {
      "text/plain": [
       "0"
      ]
     },
     "execution_count": 14,
     "metadata": {},
     "output_type": "execute_result"
    }
   ],
   "source": [
    "display(trainData['BsmtExposure'].describe())\n",
    "# So Top Is No\n",
    "trainData['BsmtExposure'].fillna(\"No\", inplace = True)\n",
    "trainData['BsmtExposure'].isnull().sum()"
   ]
  },
  {
   "cell_type": "code",
   "execution_count": 15,
   "id": "ae5f468c",
   "metadata": {
    "execution": {
     "iopub.execute_input": "2022-10-11T05:04:54.878674Z",
     "iopub.status.busy": "2022-10-11T05:04:54.878231Z",
     "iopub.status.idle": "2022-10-11T05:04:54.892348Z",
     "shell.execute_reply": "2022-10-11T05:04:54.891507Z"
    },
    "papermill": {
     "duration": 0.034965,
     "end_time": "2022-10-11T05:04:54.894904",
     "exception": false,
     "start_time": "2022-10-11T05:04:54.859939",
     "status": "completed"
    },
    "tags": []
   },
   "outputs": [
    {
     "data": {
      "text/plain": [
       "count    1460.000000\n",
       "mean      443.639726\n",
       "std       456.098091\n",
       "min         0.000000\n",
       "25%         0.000000\n",
       "50%       383.500000\n",
       "75%       712.250000\n",
       "max      5644.000000\n",
       "Name: BsmtFinSF1, dtype: float64"
      ]
     },
     "metadata": {},
     "output_type": "display_data"
    },
    {
     "data": {
      "text/plain": [
       "0"
      ]
     },
     "execution_count": 15,
     "metadata": {},
     "output_type": "execute_result"
    }
   ],
   "source": [
    "display(trainData['BsmtFinSF1'].describe())\n",
    "# So Top Is 438.242279\n",
    "trainData['BsmtFinSF1'].fillna(\"438.242279\", inplace = True)\n",
    "trainData['BsmtFinSF1'].isnull().sum()"
   ]
  },
  {
   "cell_type": "code",
   "execution_count": 16,
   "id": "04d699a5",
   "metadata": {
    "execution": {
     "iopub.execute_input": "2022-10-11T05:04:54.932633Z",
     "iopub.status.busy": "2022-10-11T05:04:54.931862Z",
     "iopub.status.idle": "2022-10-11T05:04:54.946009Z",
     "shell.execute_reply": "2022-10-11T05:04:54.945135Z"
    },
    "papermill": {
     "duration": 0.036009,
     "end_time": "2022-10-11T05:04:54.947996",
     "exception": false,
     "start_time": "2022-10-11T05:04:54.911987",
     "status": "completed"
    },
    "tags": []
   },
   "outputs": [
    {
     "data": {
      "text/plain": [
       "count     1423\n",
       "unique       6\n",
       "top        Unf\n",
       "freq       430\n",
       "Name: BsmtFinType1, dtype: object"
      ]
     },
     "metadata": {},
     "output_type": "display_data"
    },
    {
     "data": {
      "text/plain": [
       "0"
      ]
     },
     "execution_count": 16,
     "metadata": {},
     "output_type": "execute_result"
    }
   ],
   "source": [
    "display(trainData['BsmtFinType1'].describe())\n",
    "# So Top Is Unf\n",
    "trainData['BsmtFinType1'].fillna(\"Unf\", inplace = True)\n",
    "trainData['BsmtFinType1'].isnull().sum()"
   ]
  },
  {
   "cell_type": "code",
   "execution_count": 17,
   "id": "d654512f",
   "metadata": {
    "execution": {
     "iopub.execute_input": "2022-10-11T05:04:54.985565Z",
     "iopub.status.busy": "2022-10-11T05:04:54.984118Z",
     "iopub.status.idle": "2022-10-11T05:04:54.998410Z",
     "shell.execute_reply": "2022-10-11T05:04:54.996885Z"
    },
    "papermill": {
     "duration": 0.035959,
     "end_time": "2022-10-11T05:04:55.001242",
     "exception": false,
     "start_time": "2022-10-11T05:04:54.965283",
     "status": "completed"
    },
    "tags": []
   },
   "outputs": [
    {
     "data": {
      "text/plain": [
       "count     1422\n",
       "unique       6\n",
       "top        Unf\n",
       "freq      1256\n",
       "Name: BsmtFinType2, dtype: object"
      ]
     },
     "metadata": {},
     "output_type": "display_data"
    },
    {
     "data": {
      "text/plain": [
       "0"
      ]
     },
     "execution_count": 17,
     "metadata": {},
     "output_type": "execute_result"
    }
   ],
   "source": [
    "display(trainData['BsmtFinType2'].describe())\n",
    "# So Top Is Unf\n",
    "trainData['BsmtFinType2'].fillna(\"Unf\", inplace = True)\n",
    "trainData['BsmtFinType2'].isnull().sum()"
   ]
  },
  {
   "cell_type": "code",
   "execution_count": 18,
   "id": "2fd8d47e",
   "metadata": {
    "execution": {
     "iopub.execute_input": "2022-10-11T05:04:55.039154Z",
     "iopub.status.busy": "2022-10-11T05:04:55.038571Z",
     "iopub.status.idle": "2022-10-11T05:04:55.054420Z",
     "shell.execute_reply": "2022-10-11T05:04:55.053248Z"
    },
    "papermill": {
     "duration": 0.039273,
     "end_time": "2022-10-11T05:04:55.057372",
     "exception": false,
     "start_time": "2022-10-11T05:04:55.018099",
     "status": "completed"
    },
    "tags": []
   },
   "outputs": [
    {
     "data": {
      "text/plain": [
       "count      1459\n",
       "unique        5\n",
       "top       SBrkr\n",
       "freq       1334\n",
       "Name: Electrical, dtype: object"
      ]
     },
     "metadata": {},
     "output_type": "display_data"
    },
    {
     "data": {
      "text/plain": [
       "0"
      ]
     },
     "execution_count": 18,
     "metadata": {},
     "output_type": "execute_result"
    }
   ],
   "source": [
    "display(trainData['Electrical'].describe())\n",
    "# So Top Is SBrkr\n",
    "trainData['Electrical'].fillna(\"SBrkr\", inplace = True)\n",
    "trainData['Electrical'].isnull().sum()"
   ]
  },
  {
   "cell_type": "code",
   "execution_count": 19,
   "id": "11e70003",
   "metadata": {
    "execution": {
     "iopub.execute_input": "2022-10-11T05:04:55.095938Z",
     "iopub.status.busy": "2022-10-11T05:04:55.095487Z",
     "iopub.status.idle": "2022-10-11T05:04:55.110113Z",
     "shell.execute_reply": "2022-10-11T05:04:55.108983Z"
    },
    "papermill": {
     "duration": 0.037646,
     "end_time": "2022-10-11T05:04:55.112559",
     "exception": false,
     "start_time": "2022-10-11T05:04:55.074913",
     "status": "completed"
    },
    "tags": []
   },
   "outputs": [
    {
     "data": {
      "text/plain": [
       "count     770\n",
       "unique      5\n",
       "top        Gd\n",
       "freq      380\n",
       "Name: FireplaceQu, dtype: object"
      ]
     },
     "metadata": {},
     "output_type": "display_data"
    },
    {
     "data": {
      "text/plain": [
       "0"
      ]
     },
     "execution_count": 19,
     "metadata": {},
     "output_type": "execute_result"
    }
   ],
   "source": [
    "display(trainData['FireplaceQu'].describe())\n",
    "# So Top Is Gd\n",
    "trainData['FireplaceQu'].fillna(\"Gd\", inplace = True)\n",
    "trainData['FireplaceQu'].isnull().sum()\n"
   ]
  },
  {
   "cell_type": "code",
   "execution_count": 20,
   "id": "d62b76ab",
   "metadata": {
    "execution": {
     "iopub.execute_input": "2022-10-11T05:04:55.149214Z",
     "iopub.status.busy": "2022-10-11T05:04:55.148764Z",
     "iopub.status.idle": "2022-10-11T05:04:55.163290Z",
     "shell.execute_reply": "2022-10-11T05:04:55.162171Z"
    },
    "papermill": {
     "duration": 0.035652,
     "end_time": "2022-10-11T05:04:55.165805",
     "exception": false,
     "start_time": "2022-10-11T05:04:55.130153",
     "status": "completed"
    },
    "tags": []
   },
   "outputs": [
    {
     "data": {
      "text/plain": [
       "count       1379\n",
       "unique         6\n",
       "top       Attchd\n",
       "freq         870\n",
       "Name: GarageType, dtype: object"
      ]
     },
     "metadata": {},
     "output_type": "display_data"
    },
    {
     "data": {
      "text/plain": [
       "0"
      ]
     },
     "execution_count": 20,
     "metadata": {},
     "output_type": "execute_result"
    }
   ],
   "source": [
    "display(trainData['GarageType'].describe())\n",
    "# So Top Is Attchd\n",
    "trainData['GarageType'].fillna(\"Attchd\", inplace = True)\n",
    "trainData['GarageType'].isnull().sum()"
   ]
  },
  {
   "cell_type": "code",
   "execution_count": 21,
   "id": "593175bf",
   "metadata": {
    "execution": {
     "iopub.execute_input": "2022-10-11T05:04:55.205381Z",
     "iopub.status.busy": "2022-10-11T05:04:55.204703Z",
     "iopub.status.idle": "2022-10-11T05:04:55.218864Z",
     "shell.execute_reply": "2022-10-11T05:04:55.217789Z"
    },
    "papermill": {
     "duration": 0.036408,
     "end_time": "2022-10-11T05:04:55.221274",
     "exception": false,
     "start_time": "2022-10-11T05:04:55.184866",
     "status": "completed"
    },
    "tags": []
   },
   "outputs": [
    {
     "data": {
      "text/plain": [
       "count    1379.000000\n",
       "mean     1978.506164\n",
       "std        24.689725\n",
       "min      1900.000000\n",
       "25%      1961.000000\n",
       "50%      1980.000000\n",
       "75%      2002.000000\n",
       "max      2010.000000\n",
       "Name: GarageYrBlt, dtype: float64"
      ]
     },
     "metadata": {},
     "output_type": "display_data"
    },
    {
     "data": {
      "text/plain": [
       "0"
      ]
     },
     "execution_count": 21,
     "metadata": {},
     "output_type": "execute_result"
    }
   ],
   "source": [
    "display(trainData['GarageYrBlt'].describe())\n",
    "# So Top Is 1978.460756\n",
    "trainData['GarageYrBlt'].fillna(\"1978.460756\", inplace = True)\n",
    "trainData['GarageYrBlt'].isnull().sum()\n"
   ]
  },
  {
   "cell_type": "code",
   "execution_count": 22,
   "id": "89137888",
   "metadata": {
    "execution": {
     "iopub.execute_input": "2022-10-11T05:04:55.260690Z",
     "iopub.status.busy": "2022-10-11T05:04:55.260248Z",
     "iopub.status.idle": "2022-10-11T05:04:55.274127Z",
     "shell.execute_reply": "2022-10-11T05:04:55.273038Z"
    },
    "papermill": {
     "duration": 0.037199,
     "end_time": "2022-10-11T05:04:55.276859",
     "exception": false,
     "start_time": "2022-10-11T05:04:55.239660",
     "status": "completed"
    },
    "tags": []
   },
   "outputs": [
    {
     "data": {
      "text/plain": [
       "count     1379\n",
       "unique       3\n",
       "top        Unf\n",
       "freq       605\n",
       "Name: GarageFinish, dtype: object"
      ]
     },
     "metadata": {},
     "output_type": "display_data"
    },
    {
     "data": {
      "text/plain": [
       "0"
      ]
     },
     "execution_count": 22,
     "metadata": {},
     "output_type": "execute_result"
    }
   ],
   "source": [
    "display(trainData['GarageFinish'].describe())\n",
    "# So Top Is Unf\n",
    "trainData['GarageFinish'].fillna(\"Unf\", inplace = True)\n",
    "trainData['GarageFinish'].isnull().sum()"
   ]
  },
  {
   "cell_type": "code",
   "execution_count": 23,
   "id": "2102110a",
   "metadata": {
    "execution": {
     "iopub.execute_input": "2022-10-11T05:04:55.315213Z",
     "iopub.status.busy": "2022-10-11T05:04:55.314799Z",
     "iopub.status.idle": "2022-10-11T05:04:55.330466Z",
     "shell.execute_reply": "2022-10-11T05:04:55.329075Z"
    },
    "papermill": {
     "duration": 0.038006,
     "end_time": "2022-10-11T05:04:55.332805",
     "exception": false,
     "start_time": "2022-10-11T05:04:55.294799",
     "status": "completed"
    },
    "tags": []
   },
   "outputs": [
    {
     "data": {
      "text/plain": [
       "count     1379\n",
       "unique       5\n",
       "top         TA\n",
       "freq      1311\n",
       "Name: GarageQual, dtype: object"
      ]
     },
     "metadata": {},
     "output_type": "display_data"
    },
    {
     "data": {
      "text/plain": [
       "0"
      ]
     },
     "execution_count": 23,
     "metadata": {},
     "output_type": "execute_result"
    }
   ],
   "source": [
    "display(trainData['GarageQual'].describe())\n",
    "# So Top Is TA\n",
    "trainData['GarageQual'].fillna(\"TA\", inplace = True)\n",
    "trainData['GarageQual'].isnull().sum()"
   ]
  },
  {
   "cell_type": "code",
   "execution_count": 24,
   "id": "6e8dab90",
   "metadata": {
    "execution": {
     "iopub.execute_input": "2022-10-11T05:04:55.372295Z",
     "iopub.status.busy": "2022-10-11T05:04:55.371906Z",
     "iopub.status.idle": "2022-10-11T05:04:55.386928Z",
     "shell.execute_reply": "2022-10-11T05:04:55.385712Z"
    },
    "papermill": {
     "duration": 0.037859,
     "end_time": "2022-10-11T05:04:55.389338",
     "exception": false,
     "start_time": "2022-10-11T05:04:55.351479",
     "status": "completed"
    },
    "tags": []
   },
   "outputs": [
    {
     "data": {
      "text/plain": [
       "count     1379\n",
       "unique       5\n",
       "top         TA\n",
       "freq      1326\n",
       "Name: GarageCond, dtype: object"
      ]
     },
     "metadata": {},
     "output_type": "display_data"
    },
    {
     "data": {
      "text/plain": [
       "0"
      ]
     },
     "execution_count": 24,
     "metadata": {},
     "output_type": "execute_result"
    }
   ],
   "source": [
    "display(trainData['GarageCond'].describe())\n",
    "# So Top Is TA\n",
    "trainData['GarageCond'].fillna(\"TA\", inplace = True)\n",
    "trainData['GarageCond'].isnull().sum()"
   ]
  },
  {
   "cell_type": "code",
   "execution_count": 25,
   "id": "90bd6f04",
   "metadata": {
    "execution": {
     "iopub.execute_input": "2022-10-11T05:04:55.428729Z",
     "iopub.status.busy": "2022-10-11T05:04:55.428278Z",
     "iopub.status.idle": "2022-10-11T05:04:55.443466Z",
     "shell.execute_reply": "2022-10-11T05:04:55.442287Z"
    },
    "papermill": {
     "duration": 0.038137,
     "end_time": "2022-10-11T05:04:55.445825",
     "exception": false,
     "start_time": "2022-10-11T05:04:55.407688",
     "status": "completed"
    },
    "tags": []
   },
   "outputs": [
    {
     "data": {
      "text/plain": [
       "count     1452\n",
       "unique       4\n",
       "top       None\n",
       "freq       864\n",
       "Name: MasVnrType, dtype: object"
      ]
     },
     "metadata": {},
     "output_type": "display_data"
    },
    {
     "data": {
      "text/plain": [
       "0"
      ]
     },
     "execution_count": 25,
     "metadata": {},
     "output_type": "execute_result"
    }
   ],
   "source": [
    "display(trainData['MasVnrType'].describe())\n",
    "# So Top Is None\n",
    "trainData['MasVnrType'].fillna(\"None\", inplace = True)\n",
    "trainData['MasVnrType'].isnull().sum()"
   ]
  },
  {
   "cell_type": "code",
   "execution_count": 26,
   "id": "a5b1245a",
   "metadata": {
    "execution": {
     "iopub.execute_input": "2022-10-11T05:04:55.486865Z",
     "iopub.status.busy": "2022-10-11T05:04:55.486424Z",
     "iopub.status.idle": "2022-10-11T05:04:55.503316Z",
     "shell.execute_reply": "2022-10-11T05:04:55.501918Z"
    },
    "papermill": {
     "duration": 0.040425,
     "end_time": "2022-10-11T05:04:55.505825",
     "exception": false,
     "start_time": "2022-10-11T05:04:55.465400",
     "status": "completed"
    },
    "tags": []
   },
   "outputs": [
    {
     "data": {
      "text/plain": [
       "count    1452.000000\n",
       "mean      103.685262\n",
       "std       181.066207\n",
       "min         0.000000\n",
       "25%         0.000000\n",
       "50%         0.000000\n",
       "75%       166.000000\n",
       "max      1600.000000\n",
       "Name: MasVnrArea, dtype: float64"
      ]
     },
     "metadata": {},
     "output_type": "display_data"
    },
    {
     "data": {
      "text/plain": [
       "0"
      ]
     },
     "execution_count": 26,
     "metadata": {},
     "output_type": "execute_result"
    }
   ],
   "source": [
    "display(trainData['MasVnrArea'].describe())\n",
    "# So Top Is 102.543133\n",
    "trainData['MasVnrArea'].fillna(\"102.543133\", inplace = True)\n",
    "trainData['MasVnrArea'].isnull().sum()"
   ]
  },
  {
   "cell_type": "markdown",
   "id": "3c134b7e",
   "metadata": {
    "papermill": {
     "duration": 0.020557,
     "end_time": "2022-10-11T05:04:55.545745",
     "exception": false,
     "start_time": "2022-10-11T05:04:55.525188",
     "status": "completed"
    },
    "tags": []
   },
   "source": [
    "### Now We Almost Replace Every Nulls Except last 4 Columns We Have To Drop It Now "
   ]
  },
  {
   "cell_type": "code",
   "execution_count": 27,
   "id": "70fc9eb8",
   "metadata": {
    "execution": {
     "iopub.execute_input": "2022-10-11T05:04:55.586970Z",
     "iopub.status.busy": "2022-10-11T05:04:55.586549Z",
     "iopub.status.idle": "2022-10-11T05:04:55.595432Z",
     "shell.execute_reply": "2022-10-11T05:04:55.594110Z"
    },
    "papermill": {
     "duration": 0.03229,
     "end_time": "2022-10-11T05:04:55.597779",
     "exception": false,
     "start_time": "2022-10-11T05:04:55.565489",
     "status": "completed"
    },
    "tags": []
   },
   "outputs": [],
   "source": [
    "#Drop PoolQC\n",
    "trainData= trainData.drop('PoolQC', axis=1) ;"
   ]
  },
  {
   "cell_type": "code",
   "execution_count": 28,
   "id": "2a422329",
   "metadata": {
    "execution": {
     "iopub.execute_input": "2022-10-11T05:04:55.639988Z",
     "iopub.status.busy": "2022-10-11T05:04:55.638923Z",
     "iopub.status.idle": "2022-10-11T05:04:55.646371Z",
     "shell.execute_reply": "2022-10-11T05:04:55.645517Z"
    },
    "papermill": {
     "duration": 0.030995,
     "end_time": "2022-10-11T05:04:55.648998",
     "exception": false,
     "start_time": "2022-10-11T05:04:55.618003",
     "status": "completed"
    },
    "tags": []
   },
   "outputs": [],
   "source": [
    "#Drop MiscFeature\n",
    "trainData= trainData.drop('MiscFeature', axis=1)"
   ]
  },
  {
   "cell_type": "code",
   "execution_count": 29,
   "id": "97b4b1dd",
   "metadata": {
    "execution": {
     "iopub.execute_input": "2022-10-11T05:04:55.691879Z",
     "iopub.status.busy": "2022-10-11T05:04:55.691380Z",
     "iopub.status.idle": "2022-10-11T05:04:55.700047Z",
     "shell.execute_reply": "2022-10-11T05:04:55.698702Z"
    },
    "papermill": {
     "duration": 0.033503,
     "end_time": "2022-10-11T05:04:55.702747",
     "exception": false,
     "start_time": "2022-10-11T05:04:55.669244",
     "status": "completed"
    },
    "tags": []
   },
   "outputs": [],
   "source": [
    "#Drop Fence\n",
    "trainData= trainData.drop('Fence', axis=1) ; "
   ]
  },
  {
   "cell_type": "code",
   "execution_count": 30,
   "id": "7bc34b8d",
   "metadata": {
    "execution": {
     "iopub.execute_input": "2022-10-11T05:04:55.745099Z",
     "iopub.status.busy": "2022-10-11T05:04:55.744591Z",
     "iopub.status.idle": "2022-10-11T05:04:55.753353Z",
     "shell.execute_reply": "2022-10-11T05:04:55.751929Z"
    },
    "papermill": {
     "duration": 0.033045,
     "end_time": "2022-10-11T05:04:55.756108",
     "exception": false,
     "start_time": "2022-10-11T05:04:55.723063",
     "status": "completed"
    },
    "tags": []
   },
   "outputs": [],
   "source": [
    "#Drop Alley\n",
    "trainData= trainData.drop('Alley', axis=1)"
   ]
  },
  {
   "cell_type": "code",
   "execution_count": 31,
   "id": "671d72cf",
   "metadata": {
    "execution": {
     "iopub.execute_input": "2022-10-11T05:04:55.799018Z",
     "iopub.status.busy": "2022-10-11T05:04:55.798596Z",
     "iopub.status.idle": "2022-10-11T05:04:55.813336Z",
     "shell.execute_reply": "2022-10-11T05:04:55.811864Z"
    },
    "papermill": {
     "duration": 0.039803,
     "end_time": "2022-10-11T05:04:55.816420",
     "exception": false,
     "start_time": "2022-10-11T05:04:55.776617",
     "status": "completed"
    },
    "tags": []
   },
   "outputs": [
    {
     "data": {
      "text/plain": [
       "Id               0\n",
       "MSSubClass       0\n",
       "MSZoning         0\n",
       "LotFrontage      0\n",
       "LotArea          0\n",
       "                ..\n",
       "MoSold           0\n",
       "YrSold           0\n",
       "SaleType         0\n",
       "SaleCondition    0\n",
       "SalePrice        0\n",
       "Length: 77, dtype: int64"
      ]
     },
     "execution_count": 31,
     "metadata": {},
     "output_type": "execute_result"
    }
   ],
   "source": [
    "trainData.isnull().sum()"
   ]
  },
  {
   "cell_type": "markdown",
   "id": "01e2891f",
   "metadata": {
    "papermill": {
     "duration": 0.020883,
     "end_time": "2022-10-11T05:04:55.859009",
     "exception": false,
     "start_time": "2022-10-11T05:04:55.838126",
     "status": "completed"
    },
    "tags": []
   },
   "source": [
    "<h4>We Graph Nulls % Again To ensure That We Did It Well</h4>"
   ]
  },
  {
   "cell_type": "code",
   "execution_count": 32,
   "id": "ee4bd65f",
   "metadata": {
    "execution": {
     "iopub.execute_input": "2022-10-11T05:04:55.900771Z",
     "iopub.status.busy": "2022-10-11T05:04:55.900350Z",
     "iopub.status.idle": "2022-10-11T05:04:55.912156Z",
     "shell.execute_reply": "2022-10-11T05:04:55.911054Z"
    },
    "papermill": {
     "duration": 0.036263,
     "end_time": "2022-10-11T05:04:55.914929",
     "exception": false,
     "start_time": "2022-10-11T05:04:55.878666",
     "status": "completed"
    },
    "tags": []
   },
   "outputs": [
    {
     "name": "stdout",
     "output_type": "stream",
     "text": [
      "No Nulls found\n"
     ]
    }
   ],
   "source": [
    "def plot_nas(trainData: pd.DataFrame):\n",
    "    if trainData.isnull().sum().sum() != 0:\n",
    "        na_df = (trainData.isnull().sum() / len(trainData)) * 100      \n",
    "        na_df = na_df.drop(na_df[na_df == 0].index).sort_values(ascending=False)\n",
    "        missing_data = pd.DataFrame({'Missing Ratio %' :na_df})\n",
    "        missing_data.plot(kind = \"barh\")\n",
    "        plt.show()\n",
    "    else:\n",
    "        print('No Nulls found')\n",
    "plot_nas(trainData)\n",
    "#Final Check For Any Nulls ? Okay Finally No Nulls"
   ]
  },
  {
   "cell_type": "markdown",
   "id": "e3390a55",
   "metadata": {
    "papermill": {
     "duration": 0.018788,
     "end_time": "2022-10-11T05:04:55.952784",
     "exception": false,
     "start_time": "2022-10-11T05:04:55.933996",
     "status": "completed"
    },
    "tags": []
   },
   "source": [
    "<h6>Gongrats We Have No Duplicates Or Nulls We Almost Finish! </h6>"
   ]
  },
  {
   "cell_type": "markdown",
   "id": "bc51e96a",
   "metadata": {
    "papermill": {
     "duration": 0.018705,
     "end_time": "2022-10-11T05:04:55.991887",
     "exception": false,
     "start_time": "2022-10-11T05:04:55.973182",
     "status": "completed"
    },
    "tags": []
   },
   "source": [
    "<hr>"
   ]
  },
  {
   "cell_type": "markdown",
   "id": "202ff50a",
   "metadata": {
    "papermill": {
     "duration": 0.018501,
     "end_time": "2022-10-11T05:04:56.029839",
     "exception": false,
     "start_time": "2022-10-11T05:04:56.011338",
     "status": "completed"
    },
    "tags": []
   },
   "source": [
    "<a id=\"4\"></a>\n",
    "<div>\n",
    "    <h1 style=\"text-align:center ; color:blue\">4. Outliers</h1>\n",
    "    <p>Now We Check For Last Thing The Outliers</p>\n",
    "</div>\n"
   ]
  },
  {
   "cell_type": "markdown",
   "id": "1864b744",
   "metadata": {
    "papermill": {
     "duration": 0.019529,
     "end_time": "2022-10-11T05:04:56.069719",
     "exception": false,
     "start_time": "2022-10-11T05:04:56.050190",
     "status": "completed"
    },
    "tags": []
   },
   "source": [
    "<a id=\"4.1\"></a>\n",
    "# Outliers Proces Flows : \n",
    "1. Identify Numerical Values\n",
    "2. Decide If it is Important To Check Outliers Or not \" In Case Of Not Imp We Ignore It\"\n",
    "3. In Case Of Important we check For OutLIers\n",
    "4. If There Are OutLiers We Will Eliminate It : In Case Of Not We Ignore It\""
   ]
  },
  {
   "cell_type": "markdown",
   "id": "217c83a5",
   "metadata": {
    "papermill": {
     "duration": 0.019151,
     "end_time": "2022-10-11T05:04:56.108636",
     "exception": false,
     "start_time": "2022-10-11T05:04:56.089485",
     "status": "completed"
    },
    "tags": []
   },
   "source": [
    "## Identify & Elimination Proces Flows : \n",
    "### 1. get data.desc to quick Numbers look & Make Simple Graph To Easy eye Look\n",
    "### 2. Get Neccessary Calcs To Identify Outliers ( Q1 , Q3 , IQR , Upper & Lower Limits )\n",
    "### 3. In Case Of Exist OutLiers (1) : We Eliminate It &  In Case Of No OutLiers (0) : We Ignore It\n",
    "### 4. See The Diffrence Before & After By Numbers and Graphs ( boxplot)"
   ]
  },
  {
   "cell_type": "code",
   "execution_count": 33,
   "id": "7d339589",
   "metadata": {
    "execution": {
     "iopub.execute_input": "2022-10-11T05:04:56.150579Z",
     "iopub.status.busy": "2022-10-11T05:04:56.150134Z",
     "iopub.status.idle": "2022-10-11T05:04:56.159730Z",
     "shell.execute_reply": "2022-10-11T05:04:56.158552Z"
    },
    "papermill": {
     "duration": 0.033878,
     "end_time": "2022-10-11T05:04:56.162045",
     "exception": false,
     "start_time": "2022-10-11T05:04:56.128167",
     "status": "completed"
    },
    "tags": []
   },
   "outputs": [
    {
     "data": {
      "text/plain": [
       "['Id',\n",
       " 'MSSubClass',\n",
       " 'LotArea',\n",
       " 'OverallQual',\n",
       " 'OverallCond',\n",
       " 'YearBuilt',\n",
       " 'YearRemodAdd',\n",
       " 'BsmtFinSF1',\n",
       " 'BsmtFinSF2',\n",
       " 'BsmtUnfSF',\n",
       " 'TotalBsmtSF',\n",
       " '1stFlrSF',\n",
       " '2ndFlrSF',\n",
       " 'LowQualFinSF',\n",
       " 'GrLivArea',\n",
       " 'BsmtFullBath',\n",
       " 'BsmtHalfBath',\n",
       " 'FullBath',\n",
       " 'HalfBath',\n",
       " 'BedroomAbvGr',\n",
       " 'KitchenAbvGr',\n",
       " 'TotRmsAbvGrd',\n",
       " 'Fireplaces',\n",
       " 'GarageCars',\n",
       " 'GarageArea',\n",
       " 'WoodDeckSF',\n",
       " 'OpenPorchSF',\n",
       " 'EnclosedPorch',\n",
       " '3SsnPorch',\n",
       " 'ScreenPorch',\n",
       " 'PoolArea',\n",
       " 'MiscVal',\n",
       " 'MoSold',\n",
       " 'YrSold',\n",
       " 'SalePrice']"
      ]
     },
     "execution_count": 33,
     "metadata": {},
     "output_type": "execute_result"
    }
   ],
   "source": [
    "# we Need To Know Numerical Cols that may be have Outliers so we need this \n",
    "trainData.select_dtypes(include=np.number).columns.tolist()"
   ]
  },
  {
   "cell_type": "code",
   "execution_count": 34,
   "id": "51aef2c4",
   "metadata": {
    "execution": {
     "iopub.execute_input": "2022-10-11T05:04:56.204552Z",
     "iopub.status.busy": "2022-10-11T05:04:56.203389Z",
     "iopub.status.idle": "2022-10-11T05:04:56.231429Z",
     "shell.execute_reply": "2022-10-11T05:04:56.230063Z"
    },
    "papermill": {
     "duration": 0.052667,
     "end_time": "2022-10-11T05:04:56.233930",
     "exception": false,
     "start_time": "2022-10-11T05:04:56.181263",
     "status": "completed"
    },
    "tags": []
   },
   "outputs": [
    {
     "data": {
      "text/html": [
       "<div>\n",
       "<style scoped>\n",
       "    .dataframe tbody tr th:only-of-type {\n",
       "        vertical-align: middle;\n",
       "    }\n",
       "\n",
       "    .dataframe tbody tr th {\n",
       "        vertical-align: top;\n",
       "    }\n",
       "\n",
       "    .dataframe thead th {\n",
       "        text-align: right;\n",
       "    }\n",
       "</style>\n",
       "<table border=\"1\" class=\"dataframe\">\n",
       "  <thead>\n",
       "    <tr style=\"text-align: right;\">\n",
       "      <th></th>\n",
       "      <th>Id</th>\n",
       "      <th>MSSubClass</th>\n",
       "      <th>MSZoning</th>\n",
       "      <th>LotFrontage</th>\n",
       "      <th>LotArea</th>\n",
       "      <th>Street</th>\n",
       "      <th>LotShape</th>\n",
       "      <th>LandContour</th>\n",
       "      <th>Utilities</th>\n",
       "      <th>LotConfig</th>\n",
       "      <th>...</th>\n",
       "      <th>EnclosedPorch</th>\n",
       "      <th>3SsnPorch</th>\n",
       "      <th>ScreenPorch</th>\n",
       "      <th>PoolArea</th>\n",
       "      <th>MiscVal</th>\n",
       "      <th>MoSold</th>\n",
       "      <th>YrSold</th>\n",
       "      <th>SaleType</th>\n",
       "      <th>SaleCondition</th>\n",
       "      <th>SalePrice</th>\n",
       "    </tr>\n",
       "  </thead>\n",
       "  <tbody>\n",
       "    <tr>\n",
       "      <th>0</th>\n",
       "      <td>1</td>\n",
       "      <td>60</td>\n",
       "      <td>RL</td>\n",
       "      <td>65.0</td>\n",
       "      <td>8450</td>\n",
       "      <td>Pave</td>\n",
       "      <td>Reg</td>\n",
       "      <td>Lvl</td>\n",
       "      <td>AllPub</td>\n",
       "      <td>Inside</td>\n",
       "      <td>...</td>\n",
       "      <td>0</td>\n",
       "      <td>0</td>\n",
       "      <td>0</td>\n",
       "      <td>0</td>\n",
       "      <td>0</td>\n",
       "      <td>2</td>\n",
       "      <td>2008</td>\n",
       "      <td>WD</td>\n",
       "      <td>Normal</td>\n",
       "      <td>208500</td>\n",
       "    </tr>\n",
       "    <tr>\n",
       "      <th>1</th>\n",
       "      <td>2</td>\n",
       "      <td>20</td>\n",
       "      <td>RL</td>\n",
       "      <td>80.0</td>\n",
       "      <td>9600</td>\n",
       "      <td>Pave</td>\n",
       "      <td>Reg</td>\n",
       "      <td>Lvl</td>\n",
       "      <td>AllPub</td>\n",
       "      <td>FR2</td>\n",
       "      <td>...</td>\n",
       "      <td>0</td>\n",
       "      <td>0</td>\n",
       "      <td>0</td>\n",
       "      <td>0</td>\n",
       "      <td>0</td>\n",
       "      <td>5</td>\n",
       "      <td>2007</td>\n",
       "      <td>WD</td>\n",
       "      <td>Normal</td>\n",
       "      <td>181500</td>\n",
       "    </tr>\n",
       "    <tr>\n",
       "      <th>2</th>\n",
       "      <td>3</td>\n",
       "      <td>60</td>\n",
       "      <td>RL</td>\n",
       "      <td>68.0</td>\n",
       "      <td>11250</td>\n",
       "      <td>Pave</td>\n",
       "      <td>IR1</td>\n",
       "      <td>Lvl</td>\n",
       "      <td>AllPub</td>\n",
       "      <td>Inside</td>\n",
       "      <td>...</td>\n",
       "      <td>0</td>\n",
       "      <td>0</td>\n",
       "      <td>0</td>\n",
       "      <td>0</td>\n",
       "      <td>0</td>\n",
       "      <td>9</td>\n",
       "      <td>2008</td>\n",
       "      <td>WD</td>\n",
       "      <td>Normal</td>\n",
       "      <td>223500</td>\n",
       "    </tr>\n",
       "    <tr>\n",
       "      <th>3</th>\n",
       "      <td>4</td>\n",
       "      <td>70</td>\n",
       "      <td>RL</td>\n",
       "      <td>60.0</td>\n",
       "      <td>9550</td>\n",
       "      <td>Pave</td>\n",
       "      <td>IR1</td>\n",
       "      <td>Lvl</td>\n",
       "      <td>AllPub</td>\n",
       "      <td>Corner</td>\n",
       "      <td>...</td>\n",
       "      <td>272</td>\n",
       "      <td>0</td>\n",
       "      <td>0</td>\n",
       "      <td>0</td>\n",
       "      <td>0</td>\n",
       "      <td>2</td>\n",
       "      <td>2006</td>\n",
       "      <td>WD</td>\n",
       "      <td>Abnorml</td>\n",
       "      <td>140000</td>\n",
       "    </tr>\n",
       "    <tr>\n",
       "      <th>4</th>\n",
       "      <td>5</td>\n",
       "      <td>60</td>\n",
       "      <td>RL</td>\n",
       "      <td>84.0</td>\n",
       "      <td>14260</td>\n",
       "      <td>Pave</td>\n",
       "      <td>IR1</td>\n",
       "      <td>Lvl</td>\n",
       "      <td>AllPub</td>\n",
       "      <td>FR2</td>\n",
       "      <td>...</td>\n",
       "      <td>0</td>\n",
       "      <td>0</td>\n",
       "      <td>0</td>\n",
       "      <td>0</td>\n",
       "      <td>0</td>\n",
       "      <td>12</td>\n",
       "      <td>2008</td>\n",
       "      <td>WD</td>\n",
       "      <td>Normal</td>\n",
       "      <td>250000</td>\n",
       "    </tr>\n",
       "    <tr>\n",
       "      <th>5</th>\n",
       "      <td>6</td>\n",
       "      <td>50</td>\n",
       "      <td>RL</td>\n",
       "      <td>85.0</td>\n",
       "      <td>14115</td>\n",
       "      <td>Pave</td>\n",
       "      <td>IR1</td>\n",
       "      <td>Lvl</td>\n",
       "      <td>AllPub</td>\n",
       "      <td>Inside</td>\n",
       "      <td>...</td>\n",
       "      <td>0</td>\n",
       "      <td>320</td>\n",
       "      <td>0</td>\n",
       "      <td>0</td>\n",
       "      <td>700</td>\n",
       "      <td>10</td>\n",
       "      <td>2009</td>\n",
       "      <td>WD</td>\n",
       "      <td>Normal</td>\n",
       "      <td>143000</td>\n",
       "    </tr>\n",
       "    <tr>\n",
       "      <th>6</th>\n",
       "      <td>7</td>\n",
       "      <td>20</td>\n",
       "      <td>RL</td>\n",
       "      <td>75.0</td>\n",
       "      <td>10084</td>\n",
       "      <td>Pave</td>\n",
       "      <td>Reg</td>\n",
       "      <td>Lvl</td>\n",
       "      <td>AllPub</td>\n",
       "      <td>Inside</td>\n",
       "      <td>...</td>\n",
       "      <td>0</td>\n",
       "      <td>0</td>\n",
       "      <td>0</td>\n",
       "      <td>0</td>\n",
       "      <td>0</td>\n",
       "      <td>8</td>\n",
       "      <td>2007</td>\n",
       "      <td>WD</td>\n",
       "      <td>Normal</td>\n",
       "      <td>307000</td>\n",
       "    </tr>\n",
       "    <tr>\n",
       "      <th>7</th>\n",
       "      <td>8</td>\n",
       "      <td>60</td>\n",
       "      <td>RL</td>\n",
       "      <td>70</td>\n",
       "      <td>10382</td>\n",
       "      <td>Pave</td>\n",
       "      <td>IR1</td>\n",
       "      <td>Lvl</td>\n",
       "      <td>AllPub</td>\n",
       "      <td>Corner</td>\n",
       "      <td>...</td>\n",
       "      <td>228</td>\n",
       "      <td>0</td>\n",
       "      <td>0</td>\n",
       "      <td>0</td>\n",
       "      <td>350</td>\n",
       "      <td>11</td>\n",
       "      <td>2009</td>\n",
       "      <td>WD</td>\n",
       "      <td>Normal</td>\n",
       "      <td>200000</td>\n",
       "    </tr>\n",
       "    <tr>\n",
       "      <th>8</th>\n",
       "      <td>9</td>\n",
       "      <td>50</td>\n",
       "      <td>RM</td>\n",
       "      <td>51.0</td>\n",
       "      <td>6120</td>\n",
       "      <td>Pave</td>\n",
       "      <td>Reg</td>\n",
       "      <td>Lvl</td>\n",
       "      <td>AllPub</td>\n",
       "      <td>Inside</td>\n",
       "      <td>...</td>\n",
       "      <td>205</td>\n",
       "      <td>0</td>\n",
       "      <td>0</td>\n",
       "      <td>0</td>\n",
       "      <td>0</td>\n",
       "      <td>4</td>\n",
       "      <td>2008</td>\n",
       "      <td>WD</td>\n",
       "      <td>Abnorml</td>\n",
       "      <td>129900</td>\n",
       "    </tr>\n",
       "    <tr>\n",
       "      <th>9</th>\n",
       "      <td>10</td>\n",
       "      <td>190</td>\n",
       "      <td>RL</td>\n",
       "      <td>50.0</td>\n",
       "      <td>7420</td>\n",
       "      <td>Pave</td>\n",
       "      <td>Reg</td>\n",
       "      <td>Lvl</td>\n",
       "      <td>AllPub</td>\n",
       "      <td>Corner</td>\n",
       "      <td>...</td>\n",
       "      <td>0</td>\n",
       "      <td>0</td>\n",
       "      <td>0</td>\n",
       "      <td>0</td>\n",
       "      <td>0</td>\n",
       "      <td>1</td>\n",
       "      <td>2008</td>\n",
       "      <td>WD</td>\n",
       "      <td>Normal</td>\n",
       "      <td>118000</td>\n",
       "    </tr>\n",
       "  </tbody>\n",
       "</table>\n",
       "<p>10 rows × 77 columns</p>\n",
       "</div>"
      ],
      "text/plain": [
       "   Id  MSSubClass MSZoning LotFrontage  LotArea Street LotShape LandContour  \\\n",
       "0   1          60       RL        65.0     8450   Pave      Reg         Lvl   \n",
       "1   2          20       RL        80.0     9600   Pave      Reg         Lvl   \n",
       "2   3          60       RL        68.0    11250   Pave      IR1         Lvl   \n",
       "3   4          70       RL        60.0     9550   Pave      IR1         Lvl   \n",
       "4   5          60       RL        84.0    14260   Pave      IR1         Lvl   \n",
       "5   6          50       RL        85.0    14115   Pave      IR1         Lvl   \n",
       "6   7          20       RL        75.0    10084   Pave      Reg         Lvl   \n",
       "7   8          60       RL          70    10382   Pave      IR1         Lvl   \n",
       "8   9          50       RM        51.0     6120   Pave      Reg         Lvl   \n",
       "9  10         190       RL        50.0     7420   Pave      Reg         Lvl   \n",
       "\n",
       "  Utilities LotConfig  ... EnclosedPorch 3SsnPorch ScreenPorch PoolArea  \\\n",
       "0    AllPub    Inside  ...             0         0           0        0   \n",
       "1    AllPub       FR2  ...             0         0           0        0   \n",
       "2    AllPub    Inside  ...             0         0           0        0   \n",
       "3    AllPub    Corner  ...           272         0           0        0   \n",
       "4    AllPub       FR2  ...             0         0           0        0   \n",
       "5    AllPub    Inside  ...             0       320           0        0   \n",
       "6    AllPub    Inside  ...             0         0           0        0   \n",
       "7    AllPub    Corner  ...           228         0           0        0   \n",
       "8    AllPub    Inside  ...           205         0           0        0   \n",
       "9    AllPub    Corner  ...             0         0           0        0   \n",
       "\n",
       "  MiscVal MoSold  YrSold  SaleType  SaleCondition  SalePrice  \n",
       "0       0      2    2008        WD         Normal     208500  \n",
       "1       0      5    2007        WD         Normal     181500  \n",
       "2       0      9    2008        WD         Normal     223500  \n",
       "3       0      2    2006        WD        Abnorml     140000  \n",
       "4       0     12    2008        WD         Normal     250000  \n",
       "5     700     10    2009        WD         Normal     143000  \n",
       "6       0      8    2007        WD         Normal     307000  \n",
       "7     350     11    2009        WD         Normal     200000  \n",
       "8       0      4    2008        WD        Abnorml     129900  \n",
       "9       0      1    2008        WD         Normal     118000  \n",
       "\n",
       "[10 rows x 77 columns]"
      ]
     },
     "execution_count": 34,
     "metadata": {},
     "output_type": "execute_result"
    }
   ],
   "source": [
    "#Just To Remember Our Data\n",
    "trainData.head(10)"
   ]
  },
  {
   "cell_type": "code",
   "execution_count": 35,
   "id": "4d113303",
   "metadata": {
    "execution": {
     "iopub.execute_input": "2022-10-11T05:04:56.276415Z",
     "iopub.status.busy": "2022-10-11T05:04:56.275981Z",
     "iopub.status.idle": "2022-10-11T05:04:56.712672Z",
     "shell.execute_reply": "2022-10-11T05:04:56.711508Z"
    },
    "papermill": {
     "duration": 0.460909,
     "end_time": "2022-10-11T05:04:56.715352",
     "exception": false,
     "start_time": "2022-10-11T05:04:56.254443",
     "status": "completed"
    },
    "tags": []
   },
   "outputs": [
    {
     "data": {
      "text/html": [
       "<div>\n",
       "<style scoped>\n",
       "    .dataframe tbody tr th:only-of-type {\n",
       "        vertical-align: middle;\n",
       "    }\n",
       "\n",
       "    .dataframe tbody tr th {\n",
       "        vertical-align: top;\n",
       "    }\n",
       "\n",
       "    .dataframe thead th {\n",
       "        text-align: right;\n",
       "    }\n",
       "</style>\n",
       "<table border=\"1\" class=\"dataframe\">\n",
       "  <thead>\n",
       "    <tr style=\"text-align: right;\">\n",
       "      <th></th>\n",
       "      <th>SalePrice</th>\n",
       "    </tr>\n",
       "  </thead>\n",
       "  <tbody>\n",
       "    <tr>\n",
       "      <th>count</th>\n",
       "      <td>1460.000000</td>\n",
       "    </tr>\n",
       "    <tr>\n",
       "      <th>mean</th>\n",
       "      <td>180921.195890</td>\n",
       "    </tr>\n",
       "    <tr>\n",
       "      <th>std</th>\n",
       "      <td>79442.502883</td>\n",
       "    </tr>\n",
       "    <tr>\n",
       "      <th>min</th>\n",
       "      <td>34900.000000</td>\n",
       "    </tr>\n",
       "    <tr>\n",
       "      <th>25%</th>\n",
       "      <td>129975.000000</td>\n",
       "    </tr>\n",
       "    <tr>\n",
       "      <th>50%</th>\n",
       "      <td>163000.000000</td>\n",
       "    </tr>\n",
       "    <tr>\n",
       "      <th>75%</th>\n",
       "      <td>214000.000000</td>\n",
       "    </tr>\n",
       "    <tr>\n",
       "      <th>max</th>\n",
       "      <td>755000.000000</td>\n",
       "    </tr>\n",
       "  </tbody>\n",
       "</table>\n",
       "</div>"
      ],
      "text/plain": [
       "           SalePrice\n",
       "count    1460.000000\n",
       "mean   180921.195890\n",
       "std     79442.502883\n",
       "min     34900.000000\n",
       "25%    129975.000000\n",
       "50%    163000.000000\n",
       "75%    214000.000000\n",
       "max    755000.000000"
      ]
     },
     "metadata": {},
     "output_type": "display_data"
    },
    {
     "data": {
      "image/png": "[encoded data removed]",
      "text/plain": [
       "<Figure size 360x360 with 1 Axes>"
      ]
     },
     "metadata": {
      "needs_background": "light"
     },
     "output_type": "display_data"
    }
   ],
   "source": [
    "#Let's Go From Bottom To Top \"Start With Price\"\n",
    "##First See Some Details Then check For Outliers \n",
    "display(pd.DataFrame(trainData['SalePrice'].describe()))\n",
    "sns.displot(trainData['SalePrice'], kind='hist',\n",
    "            fill = True, color = 'g');\n",
    "# As We See Before Eliminate Outliers the mean is 180921.195890"
   ]
  },
  {
   "cell_type": "markdown",
   "id": "0097b878",
   "metadata": {
    "papermill": {
     "duration": 0.022008,
     "end_time": "2022-10-11T05:04:56.758126",
     "exception": false,
     "start_time": "2022-10-11T05:04:56.736118",
     "status": "completed"
    },
    "tags": []
   },
   "source": [
    "<a id=\"4.2\"></a>\n",
    "<h3 style=\"text-align:center ; color:blue\">Outliers Rule </h3>\n",
    "<h5> We Need To Get Upper & Lower Limits To Identify OutLiers Then Eliminate Them </h5>"
   ]
  },
  {
   "cell_type": "code",
   "execution_count": 36,
   "id": "1ff02139",
   "metadata": {
    "execution": {
     "iopub.execute_input": "2022-10-11T05:04:56.804529Z",
     "iopub.status.busy": "2022-10-11T05:04:56.804065Z",
     "iopub.status.idle": "2022-10-11T05:04:56.814981Z",
     "shell.execute_reply": "2022-10-11T05:04:56.813308Z"
    },
    "papermill": {
     "duration": 0.036181,
     "end_time": "2022-10-11T05:04:56.817652",
     "exception": false,
     "start_time": "2022-10-11T05:04:56.781471",
     "status": "completed"
    },
    "tags": []
   },
   "outputs": [
    {
     "name": "stdout",
     "output_type": "stream",
     "text": [
      "Lower Limit is : 3937.5\n",
      "Upper Limit is : 340037.5\n"
     ]
    }
   ],
   "source": [
    "#First Step : Get Calcs\n",
    "Q1= trainData['SalePrice'].quantile(.25)\n",
    "Q3= trainData['SalePrice'].quantile(.75)\n",
    "IQR= Q3-Q1\n",
    "lowLimit= Q1-1.5*IQR\n",
    "highLimit= Q3+1.5*IQR\n",
    "print(\"Lower Limit is :\" , lowLimit)\n",
    "print(\"Upper Limit is :\" , highLimit)"
   ]
  },
  {
   "cell_type": "code",
   "execution_count": 37,
   "id": "22b2a6f7",
   "metadata": {
    "execution": {
     "iopub.execute_input": "2022-10-11T05:04:56.862008Z",
     "iopub.status.busy": "2022-10-11T05:04:56.861608Z",
     "iopub.status.idle": "2022-10-11T05:04:57.047878Z",
     "shell.execute_reply": "2022-10-11T05:04:57.046956Z"
    },
    "papermill": {
     "duration": 0.211853,
     "end_time": "2022-10-11T05:04:57.050169",
     "exception": false,
     "start_time": "2022-10-11T05:04:56.838316",
     "status": "completed"
    },
    "tags": []
   },
   "outputs": [
    {
     "name": "stdout",
     "output_type": "stream",
     "text": [
      "180921.19589041095\n"
     ]
    },
    {
     "data": {
      "image/png": "[encoded data removed]",
      "text/plain": [
       "<Figure size 432x288 with 1 Axes>"
      ]
     },
     "metadata": {
      "needs_background": "light"
     },
     "output_type": "display_data"
    }
   ],
   "source": [
    "sns.boxplot(data=trainData[[\"SalePrice\"]], orient=\"h\")\n",
    "#Simple Graph Shows Us Amount Of It\n",
    "pricebef= trainData['SalePrice'].mean()\n",
    "print(pricebef)"
   ]
  },
  {
   "cell_type": "code",
   "execution_count": 38,
   "id": "cacd6851",
   "metadata": {
    "execution": {
     "iopub.execute_input": "2022-10-11T05:04:57.094701Z",
     "iopub.status.busy": "2022-10-11T05:04:57.093987Z",
     "iopub.status.idle": "2022-10-11T05:04:57.099287Z",
     "shell.execute_reply": "2022-10-11T05:04:57.098370Z"
    },
    "papermill": {
     "duration": 0.030643,
     "end_time": "2022-10-11T05:04:57.101820",
     "exception": false,
     "start_time": "2022-10-11T05:04:57.071177",
     "status": "completed"
    },
    "tags": []
   },
   "outputs": [],
   "source": [
    "#### we did this step to get mean without OUTLIERS ####\n",
    "#Second Step : Eliminate The Outliers\n",
    "#trainData = trainData.drop(trainData[trainData.SalePrice > highLimit].index)\n",
    "#trainData = trainData.drop(trainData[trainData.SalePrice < lowLimit].index)"
   ]
  },
  {
   "cell_type": "code",
   "execution_count": 39,
   "id": "5846d01c",
   "metadata": {
    "execution": {
     "iopub.execute_input": "2022-10-11T05:04:57.145608Z",
     "iopub.status.busy": "2022-10-11T05:04:57.145129Z",
     "iopub.status.idle": "2022-10-11T05:04:57.334363Z",
     "shell.execute_reply": "2022-10-11T05:04:57.333488Z"
    },
    "papermill": {
     "duration": 0.213469,
     "end_time": "2022-10-11T05:04:57.336789",
     "exception": false,
     "start_time": "2022-10-11T05:04:57.123320",
     "status": "completed"
    },
    "tags": []
   },
   "outputs": [
    {
     "data": {
      "text/html": [
       "<div>\n",
       "<style scoped>\n",
       "    .dataframe tbody tr th:only-of-type {\n",
       "        vertical-align: middle;\n",
       "    }\n",
       "\n",
       "    .dataframe tbody tr th {\n",
       "        vertical-align: top;\n",
       "    }\n",
       "\n",
       "    .dataframe thead th {\n",
       "        text-align: right;\n",
       "    }\n",
       "</style>\n",
       "<table border=\"1\" class=\"dataframe\">\n",
       "  <thead>\n",
       "    <tr style=\"text-align: right;\">\n",
       "      <th></th>\n",
       "      <th>SalePrice</th>\n",
       "    </tr>\n",
       "  </thead>\n",
       "  <tbody>\n",
       "    <tr>\n",
       "      <th>count</th>\n",
       "      <td>1460.000000</td>\n",
       "    </tr>\n",
       "    <tr>\n",
       "      <th>mean</th>\n",
       "      <td>180921.195890</td>\n",
       "    </tr>\n",
       "    <tr>\n",
       "      <th>std</th>\n",
       "      <td>79442.502883</td>\n",
       "    </tr>\n",
       "    <tr>\n",
       "      <th>min</th>\n",
       "      <td>34900.000000</td>\n",
       "    </tr>\n",
       "    <tr>\n",
       "      <th>25%</th>\n",
       "      <td>129975.000000</td>\n",
       "    </tr>\n",
       "    <tr>\n",
       "      <th>50%</th>\n",
       "      <td>163000.000000</td>\n",
       "    </tr>\n",
       "    <tr>\n",
       "      <th>75%</th>\n",
       "      <td>214000.000000</td>\n",
       "    </tr>\n",
       "    <tr>\n",
       "      <th>max</th>\n",
       "      <td>755000.000000</td>\n",
       "    </tr>\n",
       "  </tbody>\n",
       "</table>\n",
       "</div>"
      ],
      "text/plain": [
       "           SalePrice\n",
       "count    1460.000000\n",
       "mean   180921.195890\n",
       "std     79442.502883\n",
       "min     34900.000000\n",
       "25%    129975.000000\n",
       "50%    163000.000000\n",
       "75%    214000.000000\n",
       "max    755000.000000"
      ]
     },
     "metadata": {},
     "output_type": "display_data"
    },
    {
     "data": {
      "text/plain": [
       "<AxesSubplot:>"
      ]
     },
     "execution_count": 39,
     "metadata": {},
     "output_type": "execute_result"
    },
    {
     "data": {
      "image/png": "[encoded data removed]",
      "text/plain": [
       "<Figure size 432x288 with 1 Axes>"
      ]
     },
     "metadata": {
      "needs_background": "light"
     },
     "output_type": "display_data"
    }
   ],
   "source": [
    "#Third Step : See Diffrence In Graphs & Mean\n",
    "display(pd.DataFrame(trainData['SalePrice'].describe()))\n",
    "sns.boxplot(data=trainData[[\"SalePrice\"]], orient=\"h\")\n",
    "\n",
    "# As We See After Eliminate Outliers the mean is 170244.449928 After Wliminate OutLiers"
   ]
  },
  {
   "cell_type": "markdown",
   "id": "286f7347",
   "metadata": {
    "papermill": {
     "duration": 0.020553,
     "end_time": "2022-10-11T05:04:57.379052",
     "exception": false,
     "start_time": "2022-10-11T05:04:57.358499",
     "status": "completed"
    },
    "tags": []
   },
   "source": [
    "<a id=\"4.3\"></a>\n",
    " <h3 style=\"text-align:center ; color:blue\">Outliers Handling</h3>\n",
    "<h5> But After Thinking Eliminate Outliers Is Not A Best Thing To Do Here ? </h5>\n",
    "</h6> What About Replace It With Mean After Eliminate It ! </h6>"
   ]
  },
  {
   "cell_type": "code",
   "execution_count": 40,
   "id": "4a8ecb87",
   "metadata": {
    "execution": {
     "iopub.execute_input": "2022-10-11T05:04:57.422209Z",
     "iopub.status.busy": "2022-10-11T05:04:57.421777Z",
     "iopub.status.idle": "2022-10-11T05:04:57.430900Z",
     "shell.execute_reply": "2022-10-11T05:04:57.429867Z"
    },
    "papermill": {
     "duration": 0.033321,
     "end_time": "2022-10-11T05:04:57.433334",
     "exception": false,
     "start_time": "2022-10-11T05:04:57.400013",
     "status": "completed"
    },
    "tags": []
   },
   "outputs": [],
   "source": [
    "trainData['SalePrice'] = np.where(trainData['SalePrice'] < lowLimit, 170244.449928, trainData['SalePrice'])\n",
    "trainData['SalePrice'] = np.where(trainData['SalePrice'] > highLimit, 170244.449928, trainData['SalePrice'])"
   ]
  },
  {
   "cell_type": "code",
   "execution_count": 41,
   "id": "41c58b95",
   "metadata": {
    "execution": {
     "iopub.execute_input": "2022-10-11T05:04:57.479550Z",
     "iopub.status.busy": "2022-10-11T05:04:57.477839Z",
     "iopub.status.idle": "2022-10-11T05:04:57.658979Z",
     "shell.execute_reply": "2022-10-11T05:04:57.657632Z"
    },
    "papermill": {
     "duration": 0.207687,
     "end_time": "2022-10-11T05:04:57.661670",
     "exception": false,
     "start_time": "2022-10-11T05:04:57.453983",
     "status": "completed"
    },
    "tags": []
   },
   "outputs": [
    {
     "data": {
      "text/plain": [
       "<AxesSubplot:>"
      ]
     },
     "execution_count": 41,
     "metadata": {},
     "output_type": "execute_result"
    },
    {
     "data": {
      "image/png": "[encoded data removed]",
      "text/plain": [
       "<Figure size 432x288 with 1 Axes>"
      ]
     },
     "metadata": {
      "needs_background": "light"
     },
     "output_type": "display_data"
    }
   ],
   "source": [
    "sns.boxplot(data=trainData[[\"SalePrice\"]], orient=\"h\")"
   ]
  },
  {
   "cell_type": "markdown",
   "id": "fe3f38e5",
   "metadata": {
    "papermill": {
     "duration": 0.021724,
     "end_time": "2022-10-11T05:04:57.706833",
     "exception": false,
     "start_time": "2022-10-11T05:04:57.685109",
     "status": "completed"
    },
    "tags": []
   },
   "source": [
    "### Here We Cutout OutLIERS That are Locate in less than Lower Limit and More Than Upper Limit we calc before\n",
    "## then we replace they with Mean We Get "
   ]
  },
  {
   "cell_type": "code",
   "execution_count": 42,
   "id": "e21e35fa",
   "metadata": {
    "execution": {
     "iopub.execute_input": "2022-10-11T05:04:57.751367Z",
     "iopub.status.busy": "2022-10-11T05:04:57.750902Z",
     "iopub.status.idle": "2022-10-11T05:04:57.758411Z",
     "shell.execute_reply": "2022-10-11T05:04:57.757231Z"
    },
    "papermill": {
     "duration": 0.032397,
     "end_time": "2022-10-11T05:04:57.760950",
     "exception": false,
     "start_time": "2022-10-11T05:04:57.728553",
     "status": "completed"
    },
    "tags": []
   },
   "outputs": [
    {
     "name": "stdout",
     "output_type": "stream",
     "text": [
      "The Diffrence In Price After Eliminate Outliers Is : \n",
      "-10684\n"
     ]
    }
   ],
   "source": [
    "priceaft= trainData['SalePrice'].mean()\n",
    "print(\"The Diffrence In Price After Eliminate Outliers Is : \" )\n",
    "print(round(priceaft-pricebef))"
   ]
  },
  {
   "cell_type": "markdown",
   "id": "a893c5be",
   "metadata": {
    "papermill": {
     "duration": 0.020454,
     "end_time": "2022-10-11T05:04:57.804148",
     "exception": false,
     "start_time": "2022-10-11T05:04:57.783694",
     "status": "completed"
    },
    "tags": []
   },
   "source": [
    "<hr>\n",
    "<hr>\n",
    "<hr>\n",
    "<hr>\n",
    "<hr>\n",
    "<hr>"
   ]
  },
  {
   "cell_type": "markdown",
   "id": "2e90935f",
   "metadata": {
    "papermill": {
     "duration": 0.021222,
     "end_time": "2022-10-11T05:04:57.846186",
     "exception": false,
     "start_time": "2022-10-11T05:04:57.824964",
     "status": "completed"
    },
    "tags": []
   },
   "source": [
    "# to be continue "
   ]
  }
 ],
 "metadata": {
  "kernelspec": {
   "display_name": "Python 3",
   "language": "python",
   "name": "python3"
  },
  "language_info": {
   "codemirror_mode": {
    "name": "ipython",
    "version": 3
   },
   "file_extension": ".py",
   "mimetype": "text/x-python",
   "name": "python",
   "nbconvert_exporter": "python",
   "pygments_lexer": "ipython3",
   "version": "3.7.12"
  },
  "papermill": {
   "default_parameters": {},
   "duration": 16.597076,
   "end_time": "2022-10-11T05:04:58.691941",
   "environment_variables": {},
   "exception": null,
   "input_path": "__notebook__.ipynb",
   "output_path": "__notebook__.ipynb",
   "parameters": {},
   "start_time": "2022-10-11T05:04:42.094865",
   "version": "2.3.4"
  }
 },
 "nbformat": 4,
 "nbformat_minor": 5
}
